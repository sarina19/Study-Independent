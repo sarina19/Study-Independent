{
  "nbformat": 4,
  "nbformat_minor": 0,
  "metadata": {
    "colab": {
      "name": " RB & KM-3-2 Deep Learning.ipynb (Sarina)",
      "provenance": [],
      "collapsed_sections": [],
      "include_colab_link": true
    },
    "kernelspec": {
      "name": "python3",
      "display_name": "Python 3"
    },
    "language_info": {
      "name": "python"
    }
  },
  "cells": [
    {
      "cell_type": "markdown",
      "metadata": {
        "id": "view-in-github",
        "colab_type": "text"
      },
      "source": [
        "<a href=\"https://colab.research.google.com/github/sarina19/Study-Independent/blob/main/RB_%26_KM_3_2_Deep_Learning_ipynb_(Sarina).ipynb\" target=\"_parent\"><img src=\"https://colab.research.google.com/assets/colab-badge.svg\" alt=\"Open In Colab\"/></a>"
      ]
    },
    {
      "cell_type": "markdown",
      "metadata": {
        "id": "7da3QCOP9Zcl"
      },
      "source": [
        "# RB & KM 3-2"
      ]
    },
    {
      "cell_type": "markdown",
      "metadata": {
        "id": "T_eDQzggKBDL"
      },
      "source": [
        "## A. Membangun Model dengan Sequential API"
      ]
    },
    {
      "cell_type": "code",
      "metadata": {
        "id": "gm522t0n9pGt"
      },
      "source": [
        "# Import Keras\n",
        "import tensorflow as tf\n",
        "from tensorflow.keras import Sequential\n",
        "from tensorflow.keras.layers import Dense"
      ],
      "execution_count": null,
      "outputs": []
    },
    {
      "cell_type": "code",
      "metadata": {
        "id": "W38KfDxQ9R0E",
        "colab": {
          "base_uri": "https://localhost:8080/"
        },
        "outputId": "2156bbe2-9ba0-44b2-b87e-914a8671c6ea"
      },
      "source": [
        "# Contoh 1:\n",
        "# Memiliki 1 input layer dengan 8 neuron (menerima 8 input)\n",
        "# Memiliki 1 hidden layer dengan 10 neuron\n",
        "# Memiliki 1 output layer dengan 1 neuron\n",
        "\n",
        "model11 = Sequential()\n",
        "model11.add(Dense(10, input_shape=(8,)))\n",
        "model11.add(Dense(1))\n",
        "\n",
        "model11.summary()"
      ],
      "execution_count": null,
      "outputs": [
        {
          "output_type": "stream",
          "name": "stdout",
          "text": [
            "Model: \"sequential\"\n",
            "_________________________________________________________________\n",
            " Layer (type)                Output Shape              Param #   \n",
            "=================================================================\n",
            " dense (Dense)               (None, 10)                90        \n",
            "                                                                 \n",
            " dense_1 (Dense)             (None, 1)                 11        \n",
            "                                                                 \n",
            "=================================================================\n",
            "Total params: 101\n",
            "Trainable params: 101\n",
            "Non-trainable params: 0\n",
            "_________________________________________________________________\n"
          ]
        }
      ]
    },
    {
      "cell_type": "code",
      "metadata": {
        "colab": {
          "base_uri": "https://localhost:8080/"
        },
        "id": "72THuAYJ-mBg",
        "outputId": "24e4bb57-7e30-4e18-8bad-878168060743"
      },
      "source": [
        "# Contoh 1 (2):\n",
        "\n",
        "model12 = tf.keras.Sequential([\n",
        "    tf.keras.layers.Dense(10, input_shape=(8,)),\n",
        "    tf.keras.layers.Dense(1)\n",
        "])\n",
        "\n",
        "model12.summary()\n",
        "\n",
        "model122 = Sequential([\n",
        "Dense(10, input_shape=(8,)),\n",
        "Dense(1)\n",
        "])\n",
        "\n",
        "model122.summary()"
      ],
      "execution_count": null,
      "outputs": [
        {
          "output_type": "stream",
          "name": "stdout",
          "text": [
            "Model: \"sequential_1\"\n",
            "_________________________________________________________________\n",
            " Layer (type)                Output Shape              Param #   \n",
            "=================================================================\n",
            " dense_2 (Dense)             (None, 10)                90        \n",
            "                                                                 \n",
            " dense_3 (Dense)             (None, 1)                 11        \n",
            "                                                                 \n",
            "=================================================================\n",
            "Total params: 101\n",
            "Trainable params: 101\n",
            "Non-trainable params: 0\n",
            "_________________________________________________________________\n",
            "Model: \"sequential_2\"\n",
            "_________________________________________________________________\n",
            " Layer (type)                Output Shape              Param #   \n",
            "=================================================================\n",
            " dense_4 (Dense)             (None, 10)                90        \n",
            "                                                                 \n",
            " dense_5 (Dense)             (None, 1)                 11        \n",
            "                                                                 \n",
            "=================================================================\n",
            "Total params: 101\n",
            "Trainable params: 101\n",
            "Non-trainable params: 0\n",
            "_________________________________________________________________\n"
          ]
        }
      ]
    },
    {
      "cell_type": "code",
      "metadata": {
        "id": "A_dCXSOv_Xfg",
        "colab": {
          "base_uri": "https://localhost:8080/"
        },
        "outputId": "bf5100f0-345e-4d13-bb75-8633192a4f1c"
      },
      "source": [
        "# Contoh 2:\n",
        "# Memiliki 1 input layer dengan 10 neuron (menerima 10 input)\n",
        "# Memiliki 5 hidden layer\n",
        "# Memiliki 1 output layer dengan 1 neuron\n",
        "\n",
        "model2 = Sequential()\n",
        "model2.add(Dense(100, input_shape=(10,))) # h1\n",
        "model2.add(Dense(80)) # h2\n",
        "model2.add(Dense(30)) # h3\n",
        "model2.add(Dense(10)) # h4\n",
        "model2.add(Dense(5)) # h5\n",
        "model2.add(Dense(1))\n",
        "\n",
        "model2.summary()"
      ],
      "execution_count": null,
      "outputs": [
        {
          "output_type": "stream",
          "name": "stdout",
          "text": [
            "Model: \"sequential_3\"\n",
            "_________________________________________________________________\n",
            " Layer (type)                Output Shape              Param #   \n",
            "=================================================================\n",
            " dense_6 (Dense)             (None, 100)               1100      \n",
            "                                                                 \n",
            " dense_7 (Dense)             (None, 80)                8080      \n",
            "                                                                 \n",
            " dense_8 (Dense)             (None, 30)                2430      \n",
            "                                                                 \n",
            " dense_9 (Dense)             (None, 10)                310       \n",
            "                                                                 \n",
            " dense_10 (Dense)            (None, 5)                 55        \n",
            "                                                                 \n",
            " dense_11 (Dense)            (None, 1)                 6         \n",
            "                                                                 \n",
            "=================================================================\n",
            "Total params: 11,981\n",
            "Trainable params: 11,981\n",
            "Non-trainable params: 0\n",
            "_________________________________________________________________\n"
          ]
        }
      ]
    },
    {
      "cell_type": "markdown",
      "metadata": {
        "id": "jff7yNWKBF_6"
      },
      "source": [
        "## B. Membangun Model dengan Functional API"
      ]
    },
    {
      "cell_type": "code",
      "metadata": {
        "id": "YmZsmc9uBT0I"
      },
      "source": [
        "from tensorflow.keras import Input\n",
        "from tensorflow.keras import Model"
      ],
      "execution_count": null,
      "outputs": []
    },
    {
      "cell_type": "code",
      "metadata": {
        "id": "SUZg5rUHAagX",
        "colab": {
          "base_uri": "https://localhost:8080/"
        },
        "outputId": "9f544e27-e886-4387-9260-a93b4c46c76a"
      },
      "source": [
        "# Contoh 3:\n",
        "# Memiliki 1 input layer dengan 8 neuron (menerima 8 input)\n",
        "# Memiliki 2 hidden layer\n",
        "# Memiliki 1 output layer dengan 1 neuron\n",
        "\n",
        "in_layer = Input(shape=(8,))\n",
        "hid_layer1 = Dense(10)(in_layer)\n",
        "hid_layer2 = Dense(5)(hid_layer1)\n",
        "out_layer = Dense(1)(hid_layer2)\n",
        "\n",
        "# Define Model\n",
        "model3 = Model(inputs=in_layer, outputs=out_layer)\n",
        "model3.summary()"
      ],
      "execution_count": null,
      "outputs": [
        {
          "output_type": "stream",
          "name": "stdout",
          "text": [
            "Model: \"model\"\n",
            "_________________________________________________________________\n",
            " Layer (type)                Output Shape              Param #   \n",
            "=================================================================\n",
            " input_1 (InputLayer)        [(None, 8)]               0         \n",
            "                                                                 \n",
            " dense_12 (Dense)            (None, 10)                90        \n",
            "                                                                 \n",
            " dense_13 (Dense)            (None, 5)                 55        \n",
            "                                                                 \n",
            " dense_14 (Dense)            (None, 1)                 6         \n",
            "                                                                 \n",
            "=================================================================\n",
            "Total params: 151\n",
            "Trainable params: 151\n",
            "Non-trainable params: 0\n",
            "_________________________________________________________________\n"
          ]
        }
      ]
    },
    {
      "cell_type": "markdown",
      "metadata": {
        "id": "wMILo-jCDtNp"
      },
      "source": [
        "# Build Deep Learning Model"
      ]
    },
    {
      "cell_type": "markdown",
      "metadata": {
        "id": "rXUHT9liD8vQ"
      },
      "source": [
        "![iris.jpg](data:image/jpeg;base64,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)"
      ]
    },
    {
      "cell_type": "code",
      "metadata": {
        "id": "yLhQQQPqDzRe"
      },
      "source": [
        "from pandas import read_csv\n",
        "from numpy import argmax # array get max (get posisi nilai terbesar dalam array)\n",
        "# from tensorflow.keras import Sequential\n",
        "# from tensorflow.keras.layers import Dense"
      ],
      "execution_count": null,
      "outputs": []
    },
    {
      "cell_type": "markdown",
      "metadata": {
        "id": "N55x9wqlFU8C"
      },
      "source": [
        "## 1. Gathering Data"
      ]
    },
    {
      "cell_type": "code",
      "metadata": {
        "colab": {
          "base_uri": "https://localhost:8080/",
          "height": 206
        },
        "id": "2I2Ei10MFUhx",
        "outputId": "2ab1d4ae-1388-48f0-c36f-18e58a045f1a"
      },
      "source": [
        "url = 'https://raw.githubusercontent.com/achmatim/data-mining/main/Dataset/iris.csv'\n",
        "df = read_csv(url)\n",
        "df.head()"
      ],
      "execution_count": null,
      "outputs": [
        {
          "output_type": "execute_result",
          "data": {
            "text/plain": [
              "   SepalLengthCm  SepalWidthCm  PetalLengthCm  PetalWidthCm        Label\n",
              "0            5.1           3.5            1.4           0.2  Iris-setosa\n",
              "1            4.9           3.0            1.4           0.2  Iris-setosa\n",
              "2            4.7           3.2            1.3           0.2  Iris-setosa\n",
              "3            4.6           3.1            1.5           0.2  Iris-setosa\n",
              "4            5.0           3.6            1.4           0.2  Iris-setosa"
            ],
            "text/html": [
              "\n",
              "  <div id=\"df-01e2d5cc-1494-4e1b-9d4c-54b9bd086e42\">\n",
              "    <div class=\"colab-df-container\">\n",
              "      <div>\n",
              "<style scoped>\n",
              "    .dataframe tbody tr th:only-of-type {\n",
              "        vertical-align: middle;\n",
              "    }\n",
              "\n",
              "    .dataframe tbody tr th {\n",
              "        vertical-align: top;\n",
              "    }\n",
              "\n",
              "    .dataframe thead th {\n",
              "        text-align: right;\n",
              "    }\n",
              "</style>\n",
              "<table border=\"1\" class=\"dataframe\">\n",
              "  <thead>\n",
              "    <tr style=\"text-align: right;\">\n",
              "      <th></th>\n",
              "      <th>SepalLengthCm</th>\n",
              "      <th>SepalWidthCm</th>\n",
              "      <th>PetalLengthCm</th>\n",
              "      <th>PetalWidthCm</th>\n",
              "      <th>Label</th>\n",
              "    </tr>\n",
              "  </thead>\n",
              "  <tbody>\n",
              "    <tr>\n",
              "      <th>0</th>\n",
              "      <td>5.1</td>\n",
              "      <td>3.5</td>\n",
              "      <td>1.4</td>\n",
              "      <td>0.2</td>\n",
              "      <td>Iris-setosa</td>\n",
              "    </tr>\n",
              "    <tr>\n",
              "      <th>1</th>\n",
              "      <td>4.9</td>\n",
              "      <td>3.0</td>\n",
              "      <td>1.4</td>\n",
              "      <td>0.2</td>\n",
              "      <td>Iris-setosa</td>\n",
              "    </tr>\n",
              "    <tr>\n",
              "      <th>2</th>\n",
              "      <td>4.7</td>\n",
              "      <td>3.2</td>\n",
              "      <td>1.3</td>\n",
              "      <td>0.2</td>\n",
              "      <td>Iris-setosa</td>\n",
              "    </tr>\n",
              "    <tr>\n",
              "      <th>3</th>\n",
              "      <td>4.6</td>\n",
              "      <td>3.1</td>\n",
              "      <td>1.5</td>\n",
              "      <td>0.2</td>\n",
              "      <td>Iris-setosa</td>\n",
              "    </tr>\n",
              "    <tr>\n",
              "      <th>4</th>\n",
              "      <td>5.0</td>\n",
              "      <td>3.6</td>\n",
              "      <td>1.4</td>\n",
              "      <td>0.2</td>\n",
              "      <td>Iris-setosa</td>\n",
              "    </tr>\n",
              "  </tbody>\n",
              "</table>\n",
              "</div>\n",
              "      <button class=\"colab-df-convert\" onclick=\"convertToInteractive('df-01e2d5cc-1494-4e1b-9d4c-54b9bd086e42')\"\n",
              "              title=\"Convert this dataframe to an interactive table.\"\n",
              "              style=\"display:none;\">\n",
              "        \n",
              "  <svg xmlns=\"http://www.w3.org/2000/svg\" height=\"24px\"viewBox=\"0 0 24 24\"\n",
              "       width=\"24px\">\n",
              "    <path d=\"M0 0h24v24H0V0z\" fill=\"none\"/>\n",
              "    <path d=\"M18.56 5.44l.94 2.06.94-2.06 2.06-.94-2.06-.94-.94-2.06-.94 2.06-2.06.94zm-11 1L8.5 8.5l.94-2.06 2.06-.94-2.06-.94L8.5 2.5l-.94 2.06-2.06.94zm10 10l.94 2.06.94-2.06 2.06-.94-2.06-.94-.94-2.06-.94 2.06-2.06.94z\"/><path d=\"M17.41 7.96l-1.37-1.37c-.4-.4-.92-.59-1.43-.59-.52 0-1.04.2-1.43.59L10.3 9.45l-7.72 7.72c-.78.78-.78 2.05 0 2.83L4 21.41c.39.39.9.59 1.41.59.51 0 1.02-.2 1.41-.59l7.78-7.78 2.81-2.81c.8-.78.8-2.07 0-2.86zM5.41 20L4 18.59l7.72-7.72 1.47 1.35L5.41 20z\"/>\n",
              "  </svg>\n",
              "      </button>\n",
              "      \n",
              "  <style>\n",
              "    .colab-df-container {\n",
              "      display:flex;\n",
              "      flex-wrap:wrap;\n",
              "      gap: 12px;\n",
              "    }\n",
              "\n",
              "    .colab-df-convert {\n",
              "      background-color: #E8F0FE;\n",
              "      border: none;\n",
              "      border-radius: 50%;\n",
              "      cursor: pointer;\n",
              "      display: none;\n",
              "      fill: #1967D2;\n",
              "      height: 32px;\n",
              "      padding: 0 0 0 0;\n",
              "      width: 32px;\n",
              "    }\n",
              "\n",
              "    .colab-df-convert:hover {\n",
              "      background-color: #E2EBFA;\n",
              "      box-shadow: 0px 1px 2px rgba(60, 64, 67, 0.3), 0px 1px 3px 1px rgba(60, 64, 67, 0.15);\n",
              "      fill: #174EA6;\n",
              "    }\n",
              "\n",
              "    [theme=dark] .colab-df-convert {\n",
              "      background-color: #3B4455;\n",
              "      fill: #D2E3FC;\n",
              "    }\n",
              "\n",
              "    [theme=dark] .colab-df-convert:hover {\n",
              "      background-color: #434B5C;\n",
              "      box-shadow: 0px 1px 3px 1px rgba(0, 0, 0, 0.15);\n",
              "      filter: drop-shadow(0px 1px 2px rgba(0, 0, 0, 0.3));\n",
              "      fill: #FFFFFF;\n",
              "    }\n",
              "  </style>\n",
              "\n",
              "      <script>\n",
              "        const buttonEl =\n",
              "          document.querySelector('#df-01e2d5cc-1494-4e1b-9d4c-54b9bd086e42 button.colab-df-convert');\n",
              "        buttonEl.style.display =\n",
              "          google.colab.kernel.accessAllowed ? 'block' : 'none';\n",
              "\n",
              "        async function convertToInteractive(key) {\n",
              "          const element = document.querySelector('#df-01e2d5cc-1494-4e1b-9d4c-54b9bd086e42');\n",
              "          const dataTable =\n",
              "            await google.colab.kernel.invokeFunction('convertToInteractive',\n",
              "                                                     [key], {});\n",
              "          if (!dataTable) return;\n",
              "\n",
              "          const docLinkHtml = 'Like what you see? Visit the ' +\n",
              "            '<a target=\"_blank\" href=https://colab.research.google.com/notebooks/data_table.ipynb>data table notebook</a>'\n",
              "            + ' to learn more about interactive tables.';\n",
              "          element.innerHTML = '';\n",
              "          dataTable['output_type'] = 'display_data';\n",
              "          await google.colab.output.renderOutput(dataTable, element);\n",
              "          const docLink = document.createElement('div');\n",
              "          docLink.innerHTML = docLinkHtml;\n",
              "          element.appendChild(docLink);\n",
              "        }\n",
              "      </script>\n",
              "    </div>\n",
              "  </div>\n",
              "  "
            ]
          },
          "metadata": {},
          "execution_count": 9
        }
      ]
    },
    {
      "cell_type": "markdown",
      "metadata": {
        "id": "dU0h2nlUFr2n"
      },
      "source": [
        "## 2. Preparing Data"
      ]
    },
    {
      "cell_type": "markdown",
      "metadata": {
        "id": "ZNkLUbLpJOKM"
      },
      "source": [
        "### A. Pisahkan dataset menjadi feature (X) dan label (y)"
      ]
    },
    {
      "cell_type": "code",
      "metadata": {
        "id": "q-JVv87oFwd6"
      },
      "source": [
        "X = df.values[:, :-1]\n",
        "y = df.values[:, -1]\n",
        "# X, y = df.values[:, :-1], df.values[:, -1]"
      ],
      "execution_count": null,
      "outputs": []
    },
    {
      "cell_type": "code",
      "metadata": {
        "colab": {
          "base_uri": "https://localhost:8080/"
        },
        "id": "_jClZqMjGyX4",
        "outputId": "4d327a2f-4709-4228-baa7-e8e5f471d526"
      },
      "source": [
        "X[0:4]"
      ],
      "execution_count": null,
      "outputs": [
        {
          "output_type": "execute_result",
          "data": {
            "text/plain": [
              "array([[5.1, 3.5, 1.4, 0.2],\n",
              "       [4.9, 3.0, 1.4, 0.2],\n",
              "       [4.7, 3.2, 1.3, 0.2],\n",
              "       [4.6, 3.1, 1.5, 0.2]], dtype=object)"
            ]
          },
          "metadata": {},
          "execution_count": 11
        }
      ]
    },
    {
      "cell_type": "code",
      "metadata": {
        "colab": {
          "base_uri": "https://localhost:8080/"
        },
        "id": "zu2zM1geGoVL",
        "outputId": "afa7129c-6364-45b7-af76-ca09ce44d4f2"
      },
      "source": [
        "X = X.astype('float32') # ubah tipe data dalam X menjadi float\n",
        "X[0:4]"
      ],
      "execution_count": null,
      "outputs": [
        {
          "output_type": "execute_result",
          "data": {
            "text/plain": [
              "array([[5.1, 3.5, 1.4, 0.2],\n",
              "       [4.9, 3. , 1.4, 0.2],\n",
              "       [4.7, 3.2, 1.3, 0.2],\n",
              "       [4.6, 3.1, 1.5, 0.2]], dtype=float32)"
            ]
          },
          "metadata": {},
          "execution_count": 12
        }
      ]
    },
    {
      "cell_type": "code",
      "metadata": {
        "id": "XG62Q5DSG-ax",
        "colab": {
          "base_uri": "https://localhost:8080/"
        },
        "outputId": "8cc03b1a-3c20-4cc3-f226-654585a85afc"
      },
      "source": [
        "y"
      ],
      "execution_count": null,
      "outputs": [
        {
          "output_type": "execute_result",
          "data": {
            "text/plain": [
              "array(['Iris-setosa', 'Iris-setosa', 'Iris-setosa', 'Iris-setosa',\n",
              "       'Iris-setosa', 'Iris-setosa', 'Iris-setosa', 'Iris-setosa',\n",
              "       'Iris-setosa', 'Iris-setosa', 'Iris-setosa', 'Iris-setosa',\n",
              "       'Iris-setosa', 'Iris-setosa', 'Iris-setosa', 'Iris-setosa',\n",
              "       'Iris-setosa', 'Iris-setosa', 'Iris-setosa', 'Iris-setosa',\n",
              "       'Iris-setosa', 'Iris-setosa', 'Iris-setosa', 'Iris-setosa',\n",
              "       'Iris-setosa', 'Iris-setosa', 'Iris-setosa', 'Iris-setosa',\n",
              "       'Iris-setosa', 'Iris-setosa', 'Iris-setosa', 'Iris-setosa',\n",
              "       'Iris-setosa', 'Iris-setosa', 'Iris-setosa', 'Iris-setosa',\n",
              "       'Iris-setosa', 'Iris-setosa', 'Iris-setosa', 'Iris-setosa',\n",
              "       'Iris-setosa', 'Iris-setosa', 'Iris-setosa', 'Iris-setosa',\n",
              "       'Iris-setosa', 'Iris-setosa', 'Iris-setosa', 'Iris-setosa',\n",
              "       'Iris-setosa', 'Iris-setosa', 'Iris-versicolor', 'Iris-versicolor',\n",
              "       'Iris-versicolor', 'Iris-versicolor', 'Iris-versicolor',\n",
              "       'Iris-versicolor', 'Iris-versicolor', 'Iris-versicolor',\n",
              "       'Iris-versicolor', 'Iris-versicolor', 'Iris-versicolor',\n",
              "       'Iris-versicolor', 'Iris-versicolor', 'Iris-versicolor',\n",
              "       'Iris-versicolor', 'Iris-versicolor', 'Iris-versicolor',\n",
              "       'Iris-versicolor', 'Iris-versicolor', 'Iris-versicolor',\n",
              "       'Iris-versicolor', 'Iris-versicolor', 'Iris-versicolor',\n",
              "       'Iris-versicolor', 'Iris-versicolor', 'Iris-versicolor',\n",
              "       'Iris-versicolor', 'Iris-versicolor', 'Iris-versicolor',\n",
              "       'Iris-versicolor', 'Iris-versicolor', 'Iris-versicolor',\n",
              "       'Iris-versicolor', 'Iris-versicolor', 'Iris-versicolor',\n",
              "       'Iris-versicolor', 'Iris-versicolor', 'Iris-versicolor',\n",
              "       'Iris-versicolor', 'Iris-versicolor', 'Iris-versicolor',\n",
              "       'Iris-versicolor', 'Iris-versicolor', 'Iris-versicolor',\n",
              "       'Iris-versicolor', 'Iris-versicolor', 'Iris-versicolor',\n",
              "       'Iris-versicolor', 'Iris-versicolor', 'Iris-versicolor',\n",
              "       'Iris-virginica', 'Iris-virginica', 'Iris-virginica',\n",
              "       'Iris-virginica', 'Iris-virginica', 'Iris-virginica',\n",
              "       'Iris-virginica', 'Iris-virginica', 'Iris-virginica',\n",
              "       'Iris-virginica', 'Iris-virginica', 'Iris-virginica',\n",
              "       'Iris-virginica', 'Iris-virginica', 'Iris-virginica',\n",
              "       'Iris-virginica', 'Iris-virginica', 'Iris-virginica',\n",
              "       'Iris-virginica', 'Iris-virginica', 'Iris-virginica',\n",
              "       'Iris-virginica', 'Iris-virginica', 'Iris-virginica',\n",
              "       'Iris-virginica', 'Iris-virginica', 'Iris-virginica',\n",
              "       'Iris-virginica', 'Iris-virginica', 'Iris-virginica',\n",
              "       'Iris-virginica', 'Iris-virginica', 'Iris-virginica',\n",
              "       'Iris-virginica', 'Iris-virginica', 'Iris-virginica',\n",
              "       'Iris-virginica', 'Iris-virginica', 'Iris-virginica',\n",
              "       'Iris-virginica', 'Iris-virginica', 'Iris-virginica',\n",
              "       'Iris-virginica', 'Iris-virginica', 'Iris-virginica',\n",
              "       'Iris-virginica', 'Iris-virginica', 'Iris-virginica',\n",
              "       'Iris-virginica', 'Iris-virginica'], dtype=object)"
            ]
          },
          "metadata": {},
          "execution_count": 13
        }
      ]
    },
    {
      "cell_type": "code",
      "metadata": {
        "colab": {
          "base_uri": "https://localhost:8080/"
        },
        "id": "b3HFKgMxHEKg",
        "outputId": "e3db6849-010c-4f52-b5d3-1a10f2b81c75"
      },
      "source": [
        "from sklearn.preprocessing import LabelEncoder # encode label nilai kategorik menjadi nilai numerik\n",
        "\n",
        "y = LabelEncoder().fit_transform(y) # encode label menjadi nilai numerik\n",
        "y"
      ],
      "execution_count": null,
      "outputs": [
        {
          "output_type": "execute_result",
          "data": {
            "text/plain": [
              "array([0, 0, 0, 0, 0, 0, 0, 0, 0, 0, 0, 0, 0, 0, 0, 0, 0, 0, 0, 0, 0, 0,\n",
              "       0, 0, 0, 0, 0, 0, 0, 0, 0, 0, 0, 0, 0, 0, 0, 0, 0, 0, 0, 0, 0, 0,\n",
              "       0, 0, 0, 0, 0, 0, 1, 1, 1, 1, 1, 1, 1, 1, 1, 1, 1, 1, 1, 1, 1, 1,\n",
              "       1, 1, 1, 1, 1, 1, 1, 1, 1, 1, 1, 1, 1, 1, 1, 1, 1, 1, 1, 1, 1, 1,\n",
              "       1, 1, 1, 1, 1, 1, 1, 1, 1, 1, 1, 1, 2, 2, 2, 2, 2, 2, 2, 2, 2, 2,\n",
              "       2, 2, 2, 2, 2, 2, 2, 2, 2, 2, 2, 2, 2, 2, 2, 2, 2, 2, 2, 2, 2, 2,\n",
              "       2, 2, 2, 2, 2, 2, 2, 2, 2, 2, 2, 2, 2, 2, 2, 2, 2, 2])"
            ]
          },
          "metadata": {},
          "execution_count": 14
        }
      ]
    },
    {
      "cell_type": "markdown",
      "metadata": {
        "id": "2AdsDJPgHbr9"
      },
      "source": [
        "### B. Split Data menjadi training dan testing dataset\n",
        "\n"
      ]
    },
    {
      "cell_type": "code",
      "metadata": {
        "id": "p7XLsnfNHaIw"
      },
      "source": [
        "from sklearn.model_selection import train_test_split"
      ],
      "execution_count": null,
      "outputs": []
    },
    {
      "cell_type": "code",
      "metadata": {
        "colab": {
          "base_uri": "https://localhost:8080/"
        },
        "id": "dBl6LNqzH_jR",
        "outputId": "6b0070b7-4ff5-48cf-bb95-6b9d961ed1bc"
      },
      "source": [
        "# split dataset\n",
        "X_train, X_test, y_train, y_test = train_test_split(X, y, test_size=0.2, random_state=42)\n",
        "print(X_train.shape, X_test.shape, y_train.shape, y_test.shape)\n",
        "\n",
        "# memperoleh banyaknya jumlah fitur pada input\n",
        "# n_features = X_train.shape[1]\n",
        "# print(n_features)"
      ],
      "execution_count": null,
      "outputs": [
        {
          "output_type": "stream",
          "name": "stdout",
          "text": [
            "(120, 4) (30, 4) (120,) (30,)\n"
          ]
        }
      ]
    },
    {
      "cell_type": "markdown",
      "metadata": {
        "id": "X726HICYI_P2"
      },
      "source": [
        "## 3. Deep Learning Model Life-Cycle (DLMLC)"
      ]
    },
    {
      "cell_type": "markdown",
      "metadata": {
        "id": "KX32L4nvJIrc"
      },
      "source": [
        "### A. Define the Model"
      ]
    },
    {
      "cell_type": "code",
      "metadata": {
        "id": "PqBbnzi_J9zk"
      },
      "source": [
        "import tensorflow as tf\n",
        "from tensorflow.keras import Sequential\n",
        "from tensorflow.keras.layers import Dense"
      ],
      "execution_count": null,
      "outputs": []
    },
    {
      "cell_type": "code",
      "metadata": {
        "id": "BHm5FoRwJRns"
      },
      "source": [
        "n_features = X_train.shape[1]\n",
        "\n",
        "model = Sequential()\n",
        "model.add(Dense(10, activation='relu', input_shape=(n_features,)))\n",
        "model.add(Dense(8, activation='relu'))\n",
        "model.add(Dense(3, activation='softmax'))\n",
        "\n",
        "# model.summary()"
      ],
      "execution_count": null,
      "outputs": []
    },
    {
      "cell_type": "markdown",
      "metadata": {
        "id": "Wp9nvjWqKT3E"
      },
      "source": [
        "### B. Compile the Model"
      ]
    },
    {
      "cell_type": "code",
      "metadata": {
        "id": "Eu6QMSIpKdBR"
      },
      "source": [
        "model.compile(\n",
        "    optimizer='adam',\n",
        "    loss = 'sparse_categorical_crossentropy',\n",
        "    metrics = ['accuracy']\n",
        ")"
      ],
      "execution_count": null,
      "outputs": []
    },
    {
      "cell_type": "markdown",
      "metadata": {
        "id": "GNIdkhI3LFLF"
      },
      "source": [
        "### C. Fit the Model"
      ]
    },
    {
      "cell_type": "code",
      "metadata": {
        "id": "mbfH-SenLLW6",
        "colab": {
          "base_uri": "https://localhost:8080/"
        },
        "outputId": "7fb938eb-5912-436e-f795-7878c8a7f076"
      },
      "source": [
        "model.fit(\n",
        "    X_train,\n",
        "    y_train,\n",
        "    batch_size = 32,\n",
        "    epochs = 150,\n",
        "    verbose=2\n",
        ")"
      ],
      "execution_count": null,
      "outputs": [
        {
          "output_type": "stream",
          "name": "stdout",
          "text": [
            "Epoch 1/150\n",
            "4/4 - 2s - loss: 1.1209 - accuracy: 0.3417 - 2s/epoch - 457ms/step\n",
            "Epoch 2/150\n",
            "4/4 - 0s - loss: 1.0964 - accuracy: 0.3417 - 24ms/epoch - 6ms/step\n",
            "Epoch 3/150\n",
            "4/4 - 0s - loss: 1.0736 - accuracy: 0.3417 - 16ms/epoch - 4ms/step\n",
            "Epoch 4/150\n",
            "4/4 - 0s - loss: 1.0556 - accuracy: 0.3417 - 15ms/epoch - 4ms/step\n",
            "Epoch 5/150\n",
            "4/4 - 0s - loss: 1.0405 - accuracy: 0.3417 - 16ms/epoch - 4ms/step\n",
            "Epoch 6/150\n",
            "4/4 - 0s - loss: 1.0260 - accuracy: 0.3417 - 34ms/epoch - 9ms/step\n",
            "Epoch 7/150\n",
            "4/4 - 0s - loss: 1.0121 - accuracy: 0.3417 - 16ms/epoch - 4ms/step\n",
            "Epoch 8/150\n",
            "4/4 - 0s - loss: 0.9994 - accuracy: 0.4000 - 15ms/epoch - 4ms/step\n",
            "Epoch 9/150\n",
            "4/4 - 0s - loss: 0.9868 - accuracy: 0.5667 - 31ms/epoch - 8ms/step\n",
            "Epoch 10/150\n",
            "4/4 - 0s - loss: 0.9750 - accuracy: 0.6417 - 31ms/epoch - 8ms/step\n",
            "Epoch 11/150\n",
            "4/4 - 0s - loss: 0.9634 - accuracy: 0.6000 - 24ms/epoch - 6ms/step\n",
            "Epoch 12/150\n",
            "4/4 - 0s - loss: 0.9521 - accuracy: 0.5417 - 23ms/epoch - 6ms/step\n",
            "Epoch 13/150\n",
            "4/4 - 0s - loss: 0.9418 - accuracy: 0.4833 - 19ms/epoch - 5ms/step\n",
            "Epoch 14/150\n",
            "4/4 - 0s - loss: 0.9326 - accuracy: 0.4250 - 19ms/epoch - 5ms/step\n",
            "Epoch 15/150\n",
            "4/4 - 0s - loss: 0.9228 - accuracy: 0.3583 - 22ms/epoch - 5ms/step\n",
            "Epoch 16/150\n",
            "4/4 - 0s - loss: 0.9148 - accuracy: 0.3417 - 15ms/epoch - 4ms/step\n",
            "Epoch 17/150\n",
            "4/4 - 0s - loss: 0.9061 - accuracy: 0.3417 - 16ms/epoch - 4ms/step\n",
            "Epoch 18/150\n",
            "4/4 - 0s - loss: 0.8979 - accuracy: 0.3417 - 16ms/epoch - 4ms/step\n",
            "Epoch 19/150\n",
            "4/4 - 0s - loss: 0.8898 - accuracy: 0.3417 - 16ms/epoch - 4ms/step\n",
            "Epoch 20/150\n",
            "4/4 - 0s - loss: 0.8817 - accuracy: 0.3333 - 33ms/epoch - 8ms/step\n",
            "Epoch 21/150\n",
            "4/4 - 0s - loss: 0.8738 - accuracy: 0.3417 - 32ms/epoch - 8ms/step\n",
            "Epoch 22/150\n",
            "4/4 - 0s - loss: 0.8659 - accuracy: 0.3417 - 43ms/epoch - 11ms/step\n",
            "Epoch 23/150\n",
            "4/4 - 0s - loss: 0.8583 - accuracy: 0.3417 - 43ms/epoch - 11ms/step\n",
            "Epoch 24/150\n",
            "4/4 - 0s - loss: 0.8507 - accuracy: 0.3417 - 42ms/epoch - 10ms/step\n",
            "Epoch 25/150\n",
            "4/4 - 0s - loss: 0.8433 - accuracy: 0.3417 - 38ms/epoch - 10ms/step\n",
            "Epoch 26/150\n",
            "4/4 - 0s - loss: 0.8360 - accuracy: 0.3417 - 22ms/epoch - 6ms/step\n",
            "Epoch 27/150\n",
            "4/4 - 0s - loss: 0.8286 - accuracy: 0.3417 - 23ms/epoch - 6ms/step\n",
            "Epoch 28/150\n",
            "4/4 - 0s - loss: 0.8215 - accuracy: 0.3417 - 23ms/epoch - 6ms/step\n",
            "Epoch 29/150\n",
            "4/4 - 0s - loss: 0.8142 - accuracy: 0.3417 - 32ms/epoch - 8ms/step\n",
            "Epoch 30/150\n",
            "4/4 - 0s - loss: 0.8071 - accuracy: 0.3417 - 24ms/epoch - 6ms/step\n",
            "Epoch 31/150\n",
            "4/4 - 0s - loss: 0.7997 - accuracy: 0.3500 - 24ms/epoch - 6ms/step\n",
            "Epoch 32/150\n",
            "4/4 - 0s - loss: 0.7927 - accuracy: 0.4250 - 26ms/epoch - 6ms/step\n",
            "Epoch 33/150\n",
            "4/4 - 0s - loss: 0.7854 - accuracy: 0.5583 - 19ms/epoch - 5ms/step\n",
            "Epoch 34/150\n",
            "4/4 - 0s - loss: 0.7783 - accuracy: 0.6083 - 21ms/epoch - 5ms/step\n",
            "Epoch 35/150\n",
            "4/4 - 0s - loss: 0.7713 - accuracy: 0.6500 - 28ms/epoch - 7ms/step\n",
            "Epoch 36/150\n",
            "4/4 - 0s - loss: 0.7635 - accuracy: 0.6583 - 18ms/epoch - 5ms/step\n",
            "Epoch 37/150\n",
            "4/4 - 0s - loss: 0.7563 - accuracy: 0.6583 - 18ms/epoch - 5ms/step\n",
            "Epoch 38/150\n",
            "4/4 - 0s - loss: 0.7486 - accuracy: 0.6667 - 21ms/epoch - 5ms/step\n",
            "Epoch 39/150\n",
            "4/4 - 0s - loss: 0.7411 - accuracy: 0.6750 - 17ms/epoch - 4ms/step\n",
            "Epoch 40/150\n",
            "4/4 - 0s - loss: 0.7334 - accuracy: 0.6917 - 18ms/epoch - 4ms/step\n",
            "Epoch 41/150\n",
            "4/4 - 0s - loss: 0.7252 - accuracy: 0.7250 - 18ms/epoch - 5ms/step\n",
            "Epoch 42/150\n",
            "4/4 - 0s - loss: 0.7173 - accuracy: 0.7417 - 17ms/epoch - 4ms/step\n",
            "Epoch 43/150\n",
            "4/4 - 0s - loss: 0.7092 - accuracy: 0.7500 - 18ms/epoch - 5ms/step\n",
            "Epoch 44/150\n",
            "4/4 - 0s - loss: 0.7005 - accuracy: 0.7667 - 19ms/epoch - 5ms/step\n",
            "Epoch 45/150\n",
            "4/4 - 0s - loss: 0.6921 - accuracy: 0.7833 - 19ms/epoch - 5ms/step\n",
            "Epoch 46/150\n",
            "4/4 - 0s - loss: 0.6836 - accuracy: 0.7917 - 16ms/epoch - 4ms/step\n",
            "Epoch 47/150\n",
            "4/4 - 0s - loss: 0.6747 - accuracy: 0.7917 - 26ms/epoch - 7ms/step\n",
            "Epoch 48/150\n",
            "4/4 - 0s - loss: 0.6658 - accuracy: 0.8000 - 22ms/epoch - 5ms/step\n",
            "Epoch 49/150\n",
            "4/4 - 0s - loss: 0.6565 - accuracy: 0.8167 - 22ms/epoch - 5ms/step\n",
            "Epoch 50/150\n",
            "4/4 - 0s - loss: 0.6475 - accuracy: 0.8417 - 19ms/epoch - 5ms/step\n",
            "Epoch 51/150\n",
            "4/4 - 0s - loss: 0.6381 - accuracy: 0.8583 - 21ms/epoch - 5ms/step\n",
            "Epoch 52/150\n",
            "4/4 - 0s - loss: 0.6288 - accuracy: 0.8750 - 21ms/epoch - 5ms/step\n",
            "Epoch 53/150\n",
            "4/4 - 0s - loss: 0.6198 - accuracy: 0.8750 - 22ms/epoch - 6ms/step\n",
            "Epoch 54/150\n",
            "4/4 - 0s - loss: 0.6107 - accuracy: 0.8750 - 25ms/epoch - 6ms/step\n",
            "Epoch 55/150\n",
            "4/4 - 0s - loss: 0.6002 - accuracy: 0.8667 - 24ms/epoch - 6ms/step\n",
            "Epoch 56/150\n",
            "4/4 - 0s - loss: 0.5915 - accuracy: 0.8583 - 29ms/epoch - 7ms/step\n",
            "Epoch 57/150\n",
            "4/4 - 0s - loss: 0.5822 - accuracy: 0.8750 - 23ms/epoch - 6ms/step\n",
            "Epoch 58/150\n",
            "4/4 - 0s - loss: 0.5730 - accuracy: 0.8667 - 27ms/epoch - 7ms/step\n",
            "Epoch 59/150\n",
            "4/4 - 0s - loss: 0.5640 - accuracy: 0.8750 - 22ms/epoch - 6ms/step\n",
            "Epoch 60/150\n",
            "4/4 - 0s - loss: 0.5555 - accuracy: 0.8750 - 23ms/epoch - 6ms/step\n",
            "Epoch 61/150\n",
            "4/4 - 0s - loss: 0.5469 - accuracy: 0.8917 - 24ms/epoch - 6ms/step\n",
            "Epoch 62/150\n",
            "4/4 - 0s - loss: 0.5383 - accuracy: 0.9000 - 25ms/epoch - 6ms/step\n",
            "Epoch 63/150\n",
            "4/4 - 0s - loss: 0.5303 - accuracy: 0.8917 - 68ms/epoch - 17ms/step\n",
            "Epoch 64/150\n",
            "4/4 - 0s - loss: 0.5224 - accuracy: 0.9000 - 38ms/epoch - 10ms/step\n",
            "Epoch 65/150\n",
            "4/4 - 0s - loss: 0.5150 - accuracy: 0.9167 - 49ms/epoch - 12ms/step\n",
            "Epoch 66/150\n",
            "4/4 - 0s - loss: 0.5071 - accuracy: 0.9167 - 55ms/epoch - 14ms/step\n",
            "Epoch 67/150\n",
            "4/4 - 0s - loss: 0.5004 - accuracy: 0.9167 - 54ms/epoch - 13ms/step\n",
            "Epoch 68/150\n",
            "4/4 - 0s - loss: 0.4927 - accuracy: 0.9167 - 48ms/epoch - 12ms/step\n",
            "Epoch 69/150\n",
            "4/4 - 0s - loss: 0.4861 - accuracy: 0.9000 - 42ms/epoch - 11ms/step\n",
            "Epoch 70/150\n",
            "4/4 - 0s - loss: 0.4797 - accuracy: 0.9000 - 35ms/epoch - 9ms/step\n",
            "Epoch 71/150\n",
            "4/4 - 0s - loss: 0.4733 - accuracy: 0.9000 - 34ms/epoch - 9ms/step\n",
            "Epoch 72/150\n",
            "4/4 - 0s - loss: 0.4668 - accuracy: 0.9167 - 24ms/epoch - 6ms/step\n",
            "Epoch 73/150\n",
            "4/4 - 0s - loss: 0.4615 - accuracy: 0.9417 - 31ms/epoch - 8ms/step\n",
            "Epoch 74/150\n",
            "4/4 - 0s - loss: 0.4553 - accuracy: 0.9500 - 31ms/epoch - 8ms/step\n",
            "Epoch 75/150\n",
            "4/4 - 0s - loss: 0.4497 - accuracy: 0.9500 - 31ms/epoch - 8ms/step\n",
            "Epoch 76/150\n",
            "4/4 - 0s - loss: 0.4443 - accuracy: 0.9500 - 26ms/epoch - 7ms/step\n",
            "Epoch 77/150\n",
            "4/4 - 0s - loss: 0.4388 - accuracy: 0.9500 - 46ms/epoch - 11ms/step\n",
            "Epoch 78/150\n",
            "4/4 - 0s - loss: 0.4337 - accuracy: 0.9500 - 46ms/epoch - 11ms/step\n",
            "Epoch 79/150\n",
            "4/4 - 0s - loss: 0.4285 - accuracy: 0.9500 - 59ms/epoch - 15ms/step\n",
            "Epoch 80/150\n",
            "4/4 - 0s - loss: 0.4238 - accuracy: 0.9417 - 40ms/epoch - 10ms/step\n",
            "Epoch 81/150\n",
            "4/4 - 0s - loss: 0.4190 - accuracy: 0.9333 - 34ms/epoch - 8ms/step\n",
            "Epoch 82/150\n",
            "4/4 - 0s - loss: 0.4146 - accuracy: 0.9500 - 34ms/epoch - 8ms/step\n",
            "Epoch 83/150\n",
            "4/4 - 0s - loss: 0.4097 - accuracy: 0.9500 - 40ms/epoch - 10ms/step\n",
            "Epoch 84/150\n",
            "4/4 - 0s - loss: 0.4052 - accuracy: 0.9500 - 40ms/epoch - 10ms/step\n",
            "Epoch 85/150\n",
            "4/4 - 0s - loss: 0.4009 - accuracy: 0.9500 - 26ms/epoch - 7ms/step\n",
            "Epoch 86/150\n",
            "4/4 - 0s - loss: 0.3970 - accuracy: 0.9583 - 27ms/epoch - 7ms/step\n",
            "Epoch 87/150\n",
            "4/4 - 0s - loss: 0.3920 - accuracy: 0.9583 - 34ms/epoch - 9ms/step\n",
            "Epoch 88/150\n",
            "4/4 - 0s - loss: 0.3879 - accuracy: 0.9500 - 26ms/epoch - 7ms/step\n",
            "Epoch 89/150\n",
            "4/4 - 0s - loss: 0.3842 - accuracy: 0.9500 - 28ms/epoch - 7ms/step\n",
            "Epoch 90/150\n",
            "4/4 - 0s - loss: 0.3802 - accuracy: 0.9500 - 21ms/epoch - 5ms/step\n",
            "Epoch 91/150\n",
            "4/4 - 0s - loss: 0.3759 - accuracy: 0.9583 - 18ms/epoch - 4ms/step\n",
            "Epoch 92/150\n",
            "4/4 - 0s - loss: 0.3720 - accuracy: 0.9583 - 54ms/epoch - 13ms/step\n",
            "Epoch 93/150\n",
            "4/4 - 0s - loss: 0.3681 - accuracy: 0.9667 - 28ms/epoch - 7ms/step\n",
            "Epoch 94/150\n",
            "4/4 - 0s - loss: 0.3642 - accuracy: 0.9667 - 24ms/epoch - 6ms/step\n",
            "Epoch 95/150\n",
            "4/4 - 0s - loss: 0.3604 - accuracy: 0.9667 - 28ms/epoch - 7ms/step\n",
            "Epoch 96/150\n",
            "4/4 - 0s - loss: 0.3568 - accuracy: 0.9583 - 41ms/epoch - 10ms/step\n",
            "Epoch 97/150\n",
            "4/4 - 0s - loss: 0.3532 - accuracy: 0.9583 - 29ms/epoch - 7ms/step\n",
            "Epoch 98/150\n",
            "4/4 - 0s - loss: 0.3495 - accuracy: 0.9583 - 21ms/epoch - 5ms/step\n",
            "Epoch 99/150\n",
            "4/4 - 0s - loss: 0.3457 - accuracy: 0.9750 - 22ms/epoch - 5ms/step\n",
            "Epoch 100/150\n",
            "4/4 - 0s - loss: 0.3417 - accuracy: 0.9750 - 25ms/epoch - 6ms/step\n",
            "Epoch 101/150\n",
            "4/4 - 0s - loss: 0.3385 - accuracy: 0.9750 - 24ms/epoch - 6ms/step\n",
            "Epoch 102/150\n",
            "4/4 - 0s - loss: 0.3348 - accuracy: 0.9750 - 27ms/epoch - 7ms/step\n",
            "Epoch 103/150\n",
            "4/4 - 0s - loss: 0.3312 - accuracy: 0.9750 - 34ms/epoch - 8ms/step\n",
            "Epoch 104/150\n",
            "4/4 - 0s - loss: 0.3273 - accuracy: 0.9750 - 25ms/epoch - 6ms/step\n",
            "Epoch 105/150\n",
            "4/4 - 0s - loss: 0.3243 - accuracy: 0.9667 - 19ms/epoch - 5ms/step\n",
            "Epoch 106/150\n",
            "4/4 - 0s - loss: 0.3208 - accuracy: 0.9583 - 19ms/epoch - 5ms/step\n",
            "Epoch 107/150\n",
            "4/4 - 0s - loss: 0.3173 - accuracy: 0.9667 - 20ms/epoch - 5ms/step\n",
            "Epoch 108/150\n",
            "4/4 - 0s - loss: 0.3140 - accuracy: 0.9667 - 23ms/epoch - 6ms/step\n",
            "Epoch 109/150\n",
            "4/4 - 0s - loss: 0.3110 - accuracy: 0.9750 - 21ms/epoch - 5ms/step\n",
            "Epoch 110/150\n",
            "4/4 - 0s - loss: 0.3083 - accuracy: 0.9750 - 19ms/epoch - 5ms/step\n",
            "Epoch 111/150\n",
            "4/4 - 0s - loss: 0.3048 - accuracy: 0.9750 - 20ms/epoch - 5ms/step\n",
            "Epoch 112/150\n",
            "4/4 - 0s - loss: 0.3009 - accuracy: 0.9750 - 21ms/epoch - 5ms/step\n",
            "Epoch 113/150\n",
            "4/4 - 0s - loss: 0.2975 - accuracy: 0.9750 - 18ms/epoch - 5ms/step\n",
            "Epoch 114/150\n",
            "4/4 - 0s - loss: 0.2960 - accuracy: 0.9750 - 22ms/epoch - 5ms/step\n",
            "Epoch 115/150\n",
            "4/4 - 0s - loss: 0.2915 - accuracy: 0.9750 - 33ms/epoch - 8ms/step\n",
            "Epoch 116/150\n",
            "4/4 - 0s - loss: 0.2881 - accuracy: 0.9750 - 27ms/epoch - 7ms/step\n",
            "Epoch 117/150\n",
            "4/4 - 0s - loss: 0.2863 - accuracy: 0.9667 - 18ms/epoch - 5ms/step\n",
            "Epoch 118/150\n",
            "4/4 - 0s - loss: 0.2826 - accuracy: 0.9750 - 20ms/epoch - 5ms/step\n",
            "Epoch 119/150\n",
            "4/4 - 0s - loss: 0.2791 - accuracy: 0.9750 - 29ms/epoch - 7ms/step\n",
            "Epoch 120/150\n",
            "4/4 - 0s - loss: 0.2766 - accuracy: 0.9750 - 20ms/epoch - 5ms/step\n",
            "Epoch 121/150\n",
            "4/4 - 0s - loss: 0.2737 - accuracy: 0.9750 - 22ms/epoch - 5ms/step\n",
            "Epoch 122/150\n",
            "4/4 - 0s - loss: 0.2709 - accuracy: 0.9750 - 29ms/epoch - 7ms/step\n",
            "Epoch 123/150\n",
            "4/4 - 0s - loss: 0.2676 - accuracy: 0.9750 - 27ms/epoch - 7ms/step\n",
            "Epoch 124/150\n",
            "4/4 - 0s - loss: 0.2647 - accuracy: 0.9750 - 46ms/epoch - 11ms/step\n",
            "Epoch 125/150\n",
            "4/4 - 0s - loss: 0.2622 - accuracy: 0.9750 - 40ms/epoch - 10ms/step\n",
            "Epoch 126/150\n",
            "4/4 - 0s - loss: 0.2592 - accuracy: 0.9750 - 34ms/epoch - 8ms/step\n",
            "Epoch 127/150\n",
            "4/4 - 0s - loss: 0.2564 - accuracy: 0.9750 - 24ms/epoch - 6ms/step\n",
            "Epoch 128/150\n",
            "4/4 - 0s - loss: 0.2552 - accuracy: 0.9750 - 50ms/epoch - 12ms/step\n",
            "Epoch 129/150\n",
            "4/4 - 0s - loss: 0.2510 - accuracy: 0.9750 - 15ms/epoch - 4ms/step\n",
            "Epoch 130/150\n",
            "4/4 - 0s - loss: 0.2482 - accuracy: 0.9750 - 33ms/epoch - 8ms/step\n",
            "Epoch 131/150\n",
            "4/4 - 0s - loss: 0.2455 - accuracy: 0.9750 - 23ms/epoch - 6ms/step\n",
            "Epoch 132/150\n",
            "4/4 - 0s - loss: 0.2432 - accuracy: 0.9750 - 17ms/epoch - 4ms/step\n",
            "Epoch 133/150\n",
            "4/4 - 0s - loss: 0.2407 - accuracy: 0.9750 - 18ms/epoch - 4ms/step\n",
            "Epoch 134/150\n",
            "4/4 - 0s - loss: 0.2379 - accuracy: 0.9750 - 17ms/epoch - 4ms/step\n",
            "Epoch 135/150\n",
            "4/4 - 0s - loss: 0.2359 - accuracy: 0.9750 - 18ms/epoch - 4ms/step\n",
            "Epoch 136/150\n",
            "4/4 - 0s - loss: 0.2332 - accuracy: 0.9750 - 17ms/epoch - 4ms/step\n",
            "Epoch 137/150\n",
            "4/4 - 0s - loss: 0.2309 - accuracy: 0.9750 - 28ms/epoch - 7ms/step\n",
            "Epoch 138/150\n",
            "4/4 - 0s - loss: 0.2279 - accuracy: 0.9750 - 22ms/epoch - 6ms/step\n",
            "Epoch 139/150\n",
            "4/4 - 0s - loss: 0.2257 - accuracy: 0.9750 - 25ms/epoch - 6ms/step\n",
            "Epoch 140/150\n",
            "4/4 - 0s - loss: 0.2231 - accuracy: 0.9750 - 13ms/epoch - 3ms/step\n",
            "Epoch 141/150\n",
            "4/4 - 0s - loss: 0.2227 - accuracy: 0.9750 - 28ms/epoch - 7ms/step\n",
            "Epoch 142/150\n",
            "4/4 - 0s - loss: 0.2184 - accuracy: 0.9750 - 15ms/epoch - 4ms/step\n",
            "Epoch 143/150\n",
            "4/4 - 0s - loss: 0.2177 - accuracy: 0.9750 - 16ms/epoch - 4ms/step\n",
            "Epoch 144/150\n",
            "4/4 - 0s - loss: 0.2154 - accuracy: 0.9750 - 34ms/epoch - 8ms/step\n",
            "Epoch 145/150\n",
            "4/4 - 0s - loss: 0.2118 - accuracy: 0.9750 - 25ms/epoch - 6ms/step\n",
            "Epoch 146/150\n",
            "4/4 - 0s - loss: 0.2099 - accuracy: 0.9750 - 15ms/epoch - 4ms/step\n",
            "Epoch 147/150\n",
            "4/4 - 0s - loss: 0.2076 - accuracy: 0.9750 - 15ms/epoch - 4ms/step\n",
            "Epoch 148/150\n",
            "4/4 - 0s - loss: 0.2055 - accuracy: 0.9750 - 17ms/epoch - 4ms/step\n",
            "Epoch 149/150\n",
            "4/4 - 0s - loss: 0.2037 - accuracy: 0.9750 - 18ms/epoch - 5ms/step\n",
            "Epoch 150/150\n",
            "4/4 - 0s - loss: 0.2013 - accuracy: 0.9750 - 26ms/epoch - 6ms/step\n"
          ]
        },
        {
          "output_type": "execute_result",
          "data": {
            "text/plain": [
              "<keras.callbacks.History at 0x7f9885355a50>"
            ]
          },
          "metadata": {},
          "execution_count": 20
        }
      ]
    },
    {
      "cell_type": "markdown",
      "metadata": {
        "id": "AxosgffQLpng"
      },
      "source": [
        "### D. Evaluate the Model"
      ]
    },
    {
      "cell_type": "code",
      "metadata": {
        "colab": {
          "base_uri": "https://localhost:8080/"
        },
        "id": "fbeHbovNL038",
        "outputId": "d35b763c-7c45-48e5-e0df-423d51720c1e"
      },
      "source": [
        "loss, acc = model.evaluate(X_test, y_test, verbose=2)\n",
        "print(f'Test Accuracy: {acc}')"
      ],
      "execution_count": null,
      "outputs": [
        {
          "output_type": "stream",
          "name": "stdout",
          "text": [
            "1/1 - 0s - loss: 0.1975 - accuracy: 0.9667 - 170ms/epoch - 170ms/step\n",
            "Test Accuracy: 0.9666666388511658\n"
          ]
        }
      ]
    },
    {
      "cell_type": "markdown",
      "metadata": {
        "id": "Q85n9rVMMZj8"
      },
      "source": [
        "### E. Make Prediction"
      ]
    },
    {
      "cell_type": "code",
      "metadata": {
        "colab": {
          "base_uri": "https://localhost:8080/"
        },
        "id": "Me9BY6o3Mdae",
        "outputId": "a6d7f2f4-6c76-49ea-d2eb-2dc6cf44e67c"
      },
      "source": [
        "new_data = [5.1, 3.5, 1.4, 0.2]\n",
        "\n",
        "y_pred = model.predict([new_data])\n",
        "\n",
        "print(f'Predicted: {y_pred} (class = {argmax(y_pred)})')"
      ],
      "execution_count": null,
      "outputs": [
        {
          "output_type": "stream",
          "name": "stdout",
          "text": [
            "Predicted: [[9.7084427e-01 2.9133243e-02 2.2408411e-05]] (class = 0)\n"
          ]
        }
      ]
    },
    {
      "cell_type": "markdown",
      "metadata": {
        "id": "inQ9wr46NYm9"
      },
      "source": [
        "# Visualize Deep Learning Model"
      ]
    },
    {
      "cell_type": "markdown",
      "metadata": {
        "id": "xSHhRFenNlz8"
      },
      "source": [
        "## A. Model Text Description"
      ]
    },
    {
      "cell_type": "code",
      "metadata": {
        "colab": {
          "base_uri": "https://localhost:8080/"
        },
        "id": "qAAWarnENedG",
        "outputId": "48f6be0d-0d30-46fa-f777-78822f127862"
      },
      "source": [
        "# define model\n",
        "model = Sequential()\n",
        "model.add(Dense(100, input_shape=(10,)))\n",
        "model.add(Dense(80))\n",
        "model.add(Dense(30))\n",
        "model.add(Dense(10))\n",
        "model.add(Dense(5))\n",
        "model.add(Dense(1))\n",
        "\n",
        "# summarize the model\n",
        "model.summary()"
      ],
      "execution_count": null,
      "outputs": [
        {
          "output_type": "stream",
          "name": "stdout",
          "text": [
            "Model: \"sequential_5\"\n",
            "_________________________________________________________________\n",
            " Layer (type)                Output Shape              Param #   \n",
            "=================================================================\n",
            " dense_18 (Dense)            (None, 100)               1100      \n",
            "                                                                 \n",
            " dense_19 (Dense)            (None, 80)                8080      \n",
            "                                                                 \n",
            " dense_20 (Dense)            (None, 30)                2430      \n",
            "                                                                 \n",
            " dense_21 (Dense)            (None, 10)                310       \n",
            "                                                                 \n",
            " dense_22 (Dense)            (None, 5)                 55        \n",
            "                                                                 \n",
            " dense_23 (Dense)            (None, 1)                 6         \n",
            "                                                                 \n",
            "=================================================================\n",
            "Total params: 11,981\n",
            "Trainable params: 11,981\n",
            "Non-trainable params: 0\n",
            "_________________________________________________________________\n"
          ]
        }
      ]
    },
    {
      "cell_type": "markdown",
      "metadata": {
        "id": "MHabxtxeNs84"
      },
      "source": [
        "## B. Model Architecture Plot"
      ]
    },
    {
      "cell_type": "code",
      "metadata": {
        "colab": {
          "base_uri": "https://localhost:8080/",
          "height": 753
        },
        "id": "8YCCynBpN-XM",
        "outputId": "18979fc7-f809-4018-a573-0fb5668415d1"
      },
      "source": [
        "from tensorflow.keras.utils import plot_model\n",
        "\n",
        "# define model\n",
        "model = Sequential()\n",
        "model.add(Dense(100, input_shape=(10,)))\n",
        "model.add(Dense(80))\n",
        "model.add(Dense(30))\n",
        "model.add(Dense(10))\n",
        "model.add(Dense(5))\n",
        "model.add(Dense(1))\n",
        "\n",
        "# summarize the model\n",
        "plot_model(model, 'model.png', show_shapes=True)"
      ],
      "execution_count": null,
      "outputs": [
        {
          "output_type": "execute_result",
          "data": {
            "text/plain": [
              "<IPython.core.display.Image object>"
            ],
            "image/png": "[encoded data removed]"
          },
          "metadata": {},
          "execution_count": 24
        }
      ]
    },
    {
      "cell_type": "markdown",
      "metadata": {
        "id": "6vBeysk_Om0R"
      },
      "source": [
        "# Plotting Learning Curve"
      ]
    },
    {
      "cell_type": "code",
      "metadata": {
        "id": "M5czpKkdOqkr",
        "colab": {
          "base_uri": "https://localhost:8080/"
        },
        "outputId": "6ec46f08-5c2b-4f51-86b6-eaceb69cd4b6"
      },
      "source": [
        "# define model\n",
        "model = Sequential()\n",
        "model.add(Dense(10, activation='relu', input_shape=(n_features,)))\n",
        "model.add(Dense(8, activation='relu', ))\n",
        "# model.add(Dense(5, activation='relu', ))\n",
        "model.add(Dense(3, activation='softmax'))\n",
        "\n",
        "# compile the model\n",
        "model.compile(optimizer='adam', loss='sparse_categorical_crossentropy', metrics=['accuracy'])\n",
        "\n",
        "# fit the model (simpan di hist)\n",
        "history = model.fit(X_train, y_train, epochs=150, batch_size=32, verbose=0,validation_split=0.3)\n",
        "\n",
        "# evaluate the model\n",
        "loss, acc = model.evaluate(X_test, y_test, verbose=0)\n",
        "print('Test Accuracy: %.3f' % acc)\n",
        "\n",
        "# make a prediction\n",
        "row = [5.1,3.5,1.4,0.2]\n",
        "yhat = model.predict([row])\n",
        "print('Predicted: %s (class=%d)' % (yhat, argmax(yhat)))"
      ],
      "execution_count": null,
      "outputs": [
        {
          "output_type": "stream",
          "name": "stdout",
          "text": [
            "Test Accuracy: 0.933\n",
            "Predicted: [[0.95326304 0.04506224 0.00167473]] (class=0)\n"
          ]
        }
      ]
    },
    {
      "cell_type": "code",
      "metadata": {
        "colab": {
          "base_uri": "https://localhost:8080/",
          "height": 295
        },
        "id": "StuG-y5WPOyB",
        "outputId": "447febfe-916c-47dd-c79c-243f08e9b2a2"
      },
      "source": [
        "from matplotlib import pyplot\n",
        "\n",
        "# plot learning curves\n",
        "pyplot.title('Learning Curves')\n",
        "pyplot.xlabel('Epoch')\n",
        "pyplot.ylabel('Loss')\n",
        "pyplot.plot(history.history['loss'], label='train')\n",
        "pyplot.plot(history.history['val_loss'], label='val')\n",
        "pyplot.legend()\n",
        "pyplot.show()"
      ],
      "execution_count": null,
      "outputs": [
        {
          "output_type": "display_data",
          "data": {
            "text/plain": [
              "<Figure size 432x288 with 1 Axes>"
            ],
            "image/png": "[encoded data removed]"
          },
          "metadata": {
            "needs_background": "light"
          }
        }
      ]
    },
    {
      "cell_type": "markdown",
      "metadata": {
        "id": "rS6tT-jTPn7f"
      },
      "source": [
        "# Save and Load Model"
      ]
    },
    {
      "cell_type": "code",
      "metadata": {
        "id": "XaMTW2loP0HJ"
      },
      "source": [
        "# save model to file\n",
        "model.save('model.h5') # Hierarchical Data Format 5"
      ],
      "execution_count": null,
      "outputs": []
    },
    {
      "cell_type": "code",
      "metadata": {
        "colab": {
          "base_uri": "https://localhost:8080/"
        },
        "id": "sz1bf7zCQKWQ",
        "outputId": "9ef05a71-f041-432b-cf36-47a5e9eaf1ac"
      },
      "source": [
        "from tensorflow.keras.models import load_model\n",
        "\n",
        "# load the model from file\n",
        "model = load_model('model.h5')\n",
        "\n",
        "# make a prediction\n",
        "row = [5.1,3.5,1.4,0.2]\n",
        "yhat = model.predict([row])\n",
        "print('Predicted: %s (class=%d)' % (yhat, argmax(yhat)))"
      ],
      "execution_count": null,
      "outputs": [
        {
          "output_type": "stream",
          "name": "stdout",
          "text": [
            "Predicted: [[0.95326304 0.04506224 0.00167473]] (class=0)\n"
          ]
        }
      ]
    },
    {
      "cell_type": "markdown",
      "metadata": {
        "id": "ppsWZwzmQ9Pz"
      },
      "source": [
        "# Deep Learning Techniques"
      ]
    },
    {
      "cell_type": "markdown",
      "metadata": {
        "id": "aeeOA4vQRWbn"
      },
      "source": [
        "## Dropout"
      ]
    },
    {
      "cell_type": "code",
      "metadata": {
        "colab": {
          "base_uri": "https://localhost:8080/"
        },
        "id": "AayxSbyyRUdJ",
        "outputId": "ee83f732-850f-4ea1-fef8-03c823e33398"
      },
      "source": [
        "from tensorflow.keras.layers import Dropout\n",
        "\n",
        "model = Sequential()\n",
        "model.add(Dense(100, input_shape=(10,)))\n",
        "model.add(Dense(80))\n",
        "model.add(Dense(30))\n",
        "model.add(Dense(10))\n",
        "model.add(Dense(5))\n",
        "model.add(Dense(1))\n",
        "\n",
        "model.add(Dropout(0.5))\n",
        "\n",
        "model.summary()"
      ],
      "execution_count": null,
      "outputs": [
        {
          "output_type": "stream",
          "name": "stdout",
          "text": [
            "Model: \"sequential_8\"\n",
            "_________________________________________________________________\n",
            " Layer (type)                Output Shape              Param #   \n",
            "=================================================================\n",
            " dense_33 (Dense)            (None, 100)               1100      \n",
            "                                                                 \n",
            " dense_34 (Dense)            (None, 80)                8080      \n",
            "                                                                 \n",
            " dense_35 (Dense)            (None, 30)                2430      \n",
            "                                                                 \n",
            " dense_36 (Dense)            (None, 10)                310       \n",
            "                                                                 \n",
            " dense_37 (Dense)            (None, 5)                 55        \n",
            "                                                                 \n",
            " dense_38 (Dense)            (None, 1)                 6         \n",
            "                                                                 \n",
            " dropout (Dropout)           (None, 1)                 0         \n",
            "                                                                 \n",
            "=================================================================\n",
            "Total params: 11,981\n",
            "Trainable params: 11,981\n",
            "Non-trainable params: 0\n",
            "_________________________________________________________________\n"
          ]
        }
      ]
    },
    {
      "cell_type": "markdown",
      "metadata": {
        "id": "aPidmnrgRbVJ"
      },
      "source": [
        "## Batch Normalization"
      ]
    },
    {
      "cell_type": "code",
      "metadata": {
        "colab": {
          "base_uri": "https://localhost:8080/"
        },
        "id": "V5pWFHA2RfyD",
        "outputId": "0af6a88b-89d5-4976-e4e4-9f2bd8b5179e"
      },
      "source": [
        "from tensorflow.keras.layers import BatchNormalization\n",
        "\n",
        "model = Sequential()\n",
        "model.add(Dense(100, input_shape=(10,)))\n",
        "model.add(Dense(80))\n",
        "model.add(BatchNormalization())\n",
        "model.add(Dense(30))\n",
        "model.add(BatchNormalization())\n",
        "model.add(Dense(10))\n",
        "model.add(BatchNormalization())\n",
        "model.add(Dense(5))\n",
        "model.add(Dense(1))\n",
        "\n",
        "model.summary()"
      ],
      "execution_count": null,
      "outputs": [
        {
          "output_type": "stream",
          "name": "stdout",
          "text": [
            "Model: \"sequential_9\"\n",
            "_________________________________________________________________\n",
            " Layer (type)                Output Shape              Param #   \n",
            "=================================================================\n",
            " dense_39 (Dense)            (None, 100)               1100      \n",
            "                                                                 \n",
            " dense_40 (Dense)            (None, 80)                8080      \n",
            "                                                                 \n",
            " batch_normalization (BatchN  (None, 80)               320       \n",
            " ormalization)                                                   \n",
            "                                                                 \n",
            " dense_41 (Dense)            (None, 30)                2430      \n",
            "                                                                 \n",
            " batch_normalization_1 (Batc  (None, 30)               120       \n",
            " hNormalization)                                                 \n",
            "                                                                 \n",
            " dense_42 (Dense)            (None, 10)                310       \n",
            "                                                                 \n",
            " batch_normalization_2 (Batc  (None, 10)               40        \n",
            " hNormalization)                                                 \n",
            "                                                                 \n",
            " dense_43 (Dense)            (None, 5)                 55        \n",
            "                                                                 \n",
            " dense_44 (Dense)            (None, 1)                 6         \n",
            "                                                                 \n",
            "=================================================================\n",
            "Total params: 12,461\n",
            "Trainable params: 12,221\n",
            "Non-trainable params: 240\n",
            "_________________________________________________________________\n"
          ]
        }
      ]
    },
    {
      "cell_type": "markdown",
      "source": [
        "# Latihan"
      ],
      "metadata": {
        "id": "sgHigwboWQYy"
      }
    },
    {
      "cell_type": "markdown",
      "source": [
        "Bangun sebuah model DL untuk dataset berikut [ini](https://drive.google.com/file/d/1gnWGSTlr0QgJAyxUszEKvtRtCVR0qS6Y/view?usp=sharing).\n",
        "\n",
        "Nilai latihan akan diambil dari accuracy model yang kamu bangun."
      ],
      "metadata": {
        "id": "-tFlgDq6aeEc"
      }
    },
    {
      "cell_type": "code",
      "source": [
        "import numpy as np\n",
        "import pandas as pd\n",
        "\n",
        "data = pd.read_csv('diabetes_dataset.csv')\n",
        "data.head()"
      ],
      "metadata": {
        "id": "P7e9I3rMWSH8",
        "colab": {
          "base_uri": "https://localhost:8080/",
          "height": 206
        },
        "outputId": "ee70740f-ee94-47e1-e5f3-11f8371cbb1a"
      },
      "execution_count": null,
      "outputs": [
        {
          "output_type": "execute_result",
          "data": {
            "text/plain": [
              "   Pregnancies  Glucose  BloodPressure  SkinThickness  Insulin   BMI  \\\n",
              "0            6      148             72             35        0  33.6   \n",
              "1            1       85             66             29        0  26.6   \n",
              "2            8      183             64              0        0  23.3   \n",
              "3            1       89             66             23       94  28.1   \n",
              "4            0      137             40             35      168  43.1   \n",
              "\n",
              "   DiabetesPedigreeFunction  Age  Outcome  \n",
              "0                     0.627   50        1  \n",
              "1                     0.351   31        0  \n",
              "2                     0.672   32        1  \n",
              "3                     0.167   21        0  \n",
              "4                     2.288   33        1  "
            ],
            "text/html": [
              "\n",
              "  <div id=\"df-70377c5d-96d1-407f-8901-8b4155926481\">\n",
              "    <div class=\"colab-df-container\">\n",
              "      <div>\n",
              "<style scoped>\n",
              "    .dataframe tbody tr th:only-of-type {\n",
              "        vertical-align: middle;\n",
              "    }\n",
              "\n",
              "    .dataframe tbody tr th {\n",
              "        vertical-align: top;\n",
              "    }\n",
              "\n",
              "    .dataframe thead th {\n",
              "        text-align: right;\n",
              "    }\n",
              "</style>\n",
              "<table border=\"1\" class=\"dataframe\">\n",
              "  <thead>\n",
              "    <tr style=\"text-align: right;\">\n",
              "      <th></th>\n",
              "      <th>Pregnancies</th>\n",
              "      <th>Glucose</th>\n",
              "      <th>BloodPressure</th>\n",
              "      <th>SkinThickness</th>\n",
              "      <th>Insulin</th>\n",
              "      <th>BMI</th>\n",
              "      <th>DiabetesPedigreeFunction</th>\n",
              "      <th>Age</th>\n",
              "      <th>Outcome</th>\n",
              "    </tr>\n",
              "  </thead>\n",
              "  <tbody>\n",
              "    <tr>\n",
              "      <th>0</th>\n",
              "      <td>6</td>\n",
              "      <td>148</td>\n",
              "      <td>72</td>\n",
              "      <td>35</td>\n",
              "      <td>0</td>\n",
              "      <td>33.6</td>\n",
              "      <td>0.627</td>\n",
              "      <td>50</td>\n",
              "      <td>1</td>\n",
              "    </tr>\n",
              "    <tr>\n",
              "      <th>1</th>\n",
              "      <td>1</td>\n",
              "      <td>85</td>\n",
              "      <td>66</td>\n",
              "      <td>29</td>\n",
              "      <td>0</td>\n",
              "      <td>26.6</td>\n",
              "      <td>0.351</td>\n",
              "      <td>31</td>\n",
              "      <td>0</td>\n",
              "    </tr>\n",
              "    <tr>\n",
              "      <th>2</th>\n",
              "      <td>8</td>\n",
              "      <td>183</td>\n",
              "      <td>64</td>\n",
              "      <td>0</td>\n",
              "      <td>0</td>\n",
              "      <td>23.3</td>\n",
              "      <td>0.672</td>\n",
              "      <td>32</td>\n",
              "      <td>1</td>\n",
              "    </tr>\n",
              "    <tr>\n",
              "      <th>3</th>\n",
              "      <td>1</td>\n",
              "      <td>89</td>\n",
              "      <td>66</td>\n",
              "      <td>23</td>\n",
              "      <td>94</td>\n",
              "      <td>28.1</td>\n",
              "      <td>0.167</td>\n",
              "      <td>21</td>\n",
              "      <td>0</td>\n",
              "    </tr>\n",
              "    <tr>\n",
              "      <th>4</th>\n",
              "      <td>0</td>\n",
              "      <td>137</td>\n",
              "      <td>40</td>\n",
              "      <td>35</td>\n",
              "      <td>168</td>\n",
              "      <td>43.1</td>\n",
              "      <td>2.288</td>\n",
              "      <td>33</td>\n",
              "      <td>1</td>\n",
              "    </tr>\n",
              "  </tbody>\n",
              "</table>\n",
              "</div>\n",
              "      <button class=\"colab-df-convert\" onclick=\"convertToInteractive('df-70377c5d-96d1-407f-8901-8b4155926481')\"\n",
              "              title=\"Convert this dataframe to an interactive table.\"\n",
              "              style=\"display:none;\">\n",
              "        \n",
              "  <svg xmlns=\"http://www.w3.org/2000/svg\" height=\"24px\"viewBox=\"0 0 24 24\"\n",
              "       width=\"24px\">\n",
              "    <path d=\"M0 0h24v24H0V0z\" fill=\"none\"/>\n",
              "    <path d=\"M18.56 5.44l.94 2.06.94-2.06 2.06-.94-2.06-.94-.94-2.06-.94 2.06-2.06.94zm-11 1L8.5 8.5l.94-2.06 2.06-.94-2.06-.94L8.5 2.5l-.94 2.06-2.06.94zm10 10l.94 2.06.94-2.06 2.06-.94-2.06-.94-.94-2.06-.94 2.06-2.06.94z\"/><path d=\"M17.41 7.96l-1.37-1.37c-.4-.4-.92-.59-1.43-.59-.52 0-1.04.2-1.43.59L10.3 9.45l-7.72 7.72c-.78.78-.78 2.05 0 2.83L4 21.41c.39.39.9.59 1.41.59.51 0 1.02-.2 1.41-.59l7.78-7.78 2.81-2.81c.8-.78.8-2.07 0-2.86zM5.41 20L4 18.59l7.72-7.72 1.47 1.35L5.41 20z\"/>\n",
              "  </svg>\n",
              "      </button>\n",
              "      \n",
              "  <style>\n",
              "    .colab-df-container {\n",
              "      display:flex;\n",
              "      flex-wrap:wrap;\n",
              "      gap: 12px;\n",
              "    }\n",
              "\n",
              "    .colab-df-convert {\n",
              "      background-color: #E8F0FE;\n",
              "      border: none;\n",
              "      border-radius: 50%;\n",
              "      cursor: pointer;\n",
              "      display: none;\n",
              "      fill: #1967D2;\n",
              "      height: 32px;\n",
              "      padding: 0 0 0 0;\n",
              "      width: 32px;\n",
              "    }\n",
              "\n",
              "    .colab-df-convert:hover {\n",
              "      background-color: #E2EBFA;\n",
              "      box-shadow: 0px 1px 2px rgba(60, 64, 67, 0.3), 0px 1px 3px 1px rgba(60, 64, 67, 0.15);\n",
              "      fill: #174EA6;\n",
              "    }\n",
              "\n",
              "    [theme=dark] .colab-df-convert {\n",
              "      background-color: #3B4455;\n",
              "      fill: #D2E3FC;\n",
              "    }\n",
              "\n",
              "    [theme=dark] .colab-df-convert:hover {\n",
              "      background-color: #434B5C;\n",
              "      box-shadow: 0px 1px 3px 1px rgba(0, 0, 0, 0.15);\n",
              "      filter: drop-shadow(0px 1px 2px rgba(0, 0, 0, 0.3));\n",
              "      fill: #FFFFFF;\n",
              "    }\n",
              "  </style>\n",
              "\n",
              "      <script>\n",
              "        const buttonEl =\n",
              "          document.querySelector('#df-70377c5d-96d1-407f-8901-8b4155926481 button.colab-df-convert');\n",
              "        buttonEl.style.display =\n",
              "          google.colab.kernel.accessAllowed ? 'block' : 'none';\n",
              "\n",
              "        async function convertToInteractive(key) {\n",
              "          const element = document.querySelector('#df-70377c5d-96d1-407f-8901-8b4155926481');\n",
              "          const dataTable =\n",
              "            await google.colab.kernel.invokeFunction('convertToInteractive',\n",
              "                                                     [key], {});\n",
              "          if (!dataTable) return;\n",
              "\n",
              "          const docLinkHtml = 'Like what you see? Visit the ' +\n",
              "            '<a target=\"_blank\" href=https://colab.research.google.com/notebooks/data_table.ipynb>data table notebook</a>'\n",
              "            + ' to learn more about interactive tables.';\n",
              "          element.innerHTML = '';\n",
              "          dataTable['output_type'] = 'display_data';\n",
              "          await google.colab.output.renderOutput(dataTable, element);\n",
              "          const docLink = document.createElement('div');\n",
              "          docLink.innerHTML = docLinkHtml;\n",
              "          element.appendChild(docLink);\n",
              "        }\n",
              "      </script>\n",
              "    </div>\n",
              "  </div>\n",
              "  "
            ]
          },
          "metadata": {},
          "execution_count": 33
        }
      ]
    },
    {
      "cell_type": "code",
      "source": [
        "x = data[['Pregnancies', 'Glucose', 'BloodPressure',\t'SkinThickness',\t'Insulin',\t'BMI', 'DiabetesPedigreeFunction', 'Age']]\n",
        "x = x.astype('float32')\n",
        "x"
      ],
      "metadata": {
        "colab": {
          "base_uri": "https://localhost:8080/",
          "height": 423
        },
        "id": "9iYkHZeC-hn0",
        "outputId": "55a9d92f-2850-4101-d96f-4ea10dd42240"
      },
      "execution_count": null,
      "outputs": [
        {
          "output_type": "execute_result",
          "data": {
            "text/plain": [
              "     Pregnancies  Glucose  BloodPressure  SkinThickness  Insulin        BMI  \\\n",
              "0            6.0    148.0           72.0           35.0      0.0  33.599998   \n",
              "1            1.0     85.0           66.0           29.0      0.0  26.600000   \n",
              "2            8.0    183.0           64.0            0.0      0.0  23.299999   \n",
              "3            1.0     89.0           66.0           23.0     94.0  28.100000   \n",
              "4            0.0    137.0           40.0           35.0    168.0  43.099998   \n",
              "..           ...      ...            ...            ...      ...        ...   \n",
              "763         10.0    101.0           76.0           48.0    180.0  32.900002   \n",
              "764          2.0    122.0           70.0           27.0      0.0  36.799999   \n",
              "765          5.0    121.0           72.0           23.0    112.0  26.200001   \n",
              "766          1.0    126.0           60.0            0.0      0.0  30.100000   \n",
              "767          1.0     93.0           70.0           31.0      0.0  30.400000   \n",
              "\n",
              "     DiabetesPedigreeFunction   Age  \n",
              "0                       0.627  50.0  \n",
              "1                       0.351  31.0  \n",
              "2                       0.672  32.0  \n",
              "3                       0.167  21.0  \n",
              "4                       2.288  33.0  \n",
              "..                        ...   ...  \n",
              "763                     0.171  63.0  \n",
              "764                     0.340  27.0  \n",
              "765                     0.245  30.0  \n",
              "766                     0.349  47.0  \n",
              "767                     0.315  23.0  \n",
              "\n",
              "[768 rows x 8 columns]"
            ],
            "text/html": [
              "\n",
              "  <div id=\"df-49488a3b-a3d5-4ed5-8e7a-b8cf9044394a\">\n",
              "    <div class=\"colab-df-container\">\n",
              "      <div>\n",
              "<style scoped>\n",
              "    .dataframe tbody tr th:only-of-type {\n",
              "        vertical-align: middle;\n",
              "    }\n",
              "\n",
              "    .dataframe tbody tr th {\n",
              "        vertical-align: top;\n",
              "    }\n",
              "\n",
              "    .dataframe thead th {\n",
              "        text-align: right;\n",
              "    }\n",
              "</style>\n",
              "<table border=\"1\" class=\"dataframe\">\n",
              "  <thead>\n",
              "    <tr style=\"text-align: right;\">\n",
              "      <th></th>\n",
              "      <th>Pregnancies</th>\n",
              "      <th>Glucose</th>\n",
              "      <th>BloodPressure</th>\n",
              "      <th>SkinThickness</th>\n",
              "      <th>Insulin</th>\n",
              "      <th>BMI</th>\n",
              "      <th>DiabetesPedigreeFunction</th>\n",
              "      <th>Age</th>\n",
              "    </tr>\n",
              "  </thead>\n",
              "  <tbody>\n",
              "    <tr>\n",
              "      <th>0</th>\n",
              "      <td>6.0</td>\n",
              "      <td>148.0</td>\n",
              "      <td>72.0</td>\n",
              "      <td>35.0</td>\n",
              "      <td>0.0</td>\n",
              "      <td>33.599998</td>\n",
              "      <td>0.627</td>\n",
              "      <td>50.0</td>\n",
              "    </tr>\n",
              "    <tr>\n",
              "      <th>1</th>\n",
              "      <td>1.0</td>\n",
              "      <td>85.0</td>\n",
              "      <td>66.0</td>\n",
              "      <td>29.0</td>\n",
              "      <td>0.0</td>\n",
              "      <td>26.600000</td>\n",
              "      <td>0.351</td>\n",
              "      <td>31.0</td>\n",
              "    </tr>\n",
              "    <tr>\n",
              "      <th>2</th>\n",
              "      <td>8.0</td>\n",
              "      <td>183.0</td>\n",
              "      <td>64.0</td>\n",
              "      <td>0.0</td>\n",
              "      <td>0.0</td>\n",
              "      <td>23.299999</td>\n",
              "      <td>0.672</td>\n",
              "      <td>32.0</td>\n",
              "    </tr>\n",
              "    <tr>\n",
              "      <th>3</th>\n",
              "      <td>1.0</td>\n",
              "      <td>89.0</td>\n",
              "      <td>66.0</td>\n",
              "      <td>23.0</td>\n",
              "      <td>94.0</td>\n",
              "      <td>28.100000</td>\n",
              "      <td>0.167</td>\n",
              "      <td>21.0</td>\n",
              "    </tr>\n",
              "    <tr>\n",
              "      <th>4</th>\n",
              "      <td>0.0</td>\n",
              "      <td>137.0</td>\n",
              "      <td>40.0</td>\n",
              "      <td>35.0</td>\n",
              "      <td>168.0</td>\n",
              "      <td>43.099998</td>\n",
              "      <td>2.288</td>\n",
              "      <td>33.0</td>\n",
              "    </tr>\n",
              "    <tr>\n",
              "      <th>...</th>\n",
              "      <td>...</td>\n",
              "      <td>...</td>\n",
              "      <td>...</td>\n",
              "      <td>...</td>\n",
              "      <td>...</td>\n",
              "      <td>...</td>\n",
              "      <td>...</td>\n",
              "      <td>...</td>\n",
              "    </tr>\n",
              "    <tr>\n",
              "      <th>763</th>\n",
              "      <td>10.0</td>\n",
              "      <td>101.0</td>\n",
              "      <td>76.0</td>\n",
              "      <td>48.0</td>\n",
              "      <td>180.0</td>\n",
              "      <td>32.900002</td>\n",
              "      <td>0.171</td>\n",
              "      <td>63.0</td>\n",
              "    </tr>\n",
              "    <tr>\n",
              "      <th>764</th>\n",
              "      <td>2.0</td>\n",
              "      <td>122.0</td>\n",
              "      <td>70.0</td>\n",
              "      <td>27.0</td>\n",
              "      <td>0.0</td>\n",
              "      <td>36.799999</td>\n",
              "      <td>0.340</td>\n",
              "      <td>27.0</td>\n",
              "    </tr>\n",
              "    <tr>\n",
              "      <th>765</th>\n",
              "      <td>5.0</td>\n",
              "      <td>121.0</td>\n",
              "      <td>72.0</td>\n",
              "      <td>23.0</td>\n",
              "      <td>112.0</td>\n",
              "      <td>26.200001</td>\n",
              "      <td>0.245</td>\n",
              "      <td>30.0</td>\n",
              "    </tr>\n",
              "    <tr>\n",
              "      <th>766</th>\n",
              "      <td>1.0</td>\n",
              "      <td>126.0</td>\n",
              "      <td>60.0</td>\n",
              "      <td>0.0</td>\n",
              "      <td>0.0</td>\n",
              "      <td>30.100000</td>\n",
              "      <td>0.349</td>\n",
              "      <td>47.0</td>\n",
              "    </tr>\n",
              "    <tr>\n",
              "      <th>767</th>\n",
              "      <td>1.0</td>\n",
              "      <td>93.0</td>\n",
              "      <td>70.0</td>\n",
              "      <td>31.0</td>\n",
              "      <td>0.0</td>\n",
              "      <td>30.400000</td>\n",
              "      <td>0.315</td>\n",
              "      <td>23.0</td>\n",
              "    </tr>\n",
              "  </tbody>\n",
              "</table>\n",
              "<p>768 rows × 8 columns</p>\n",
              "</div>\n",
              "      <button class=\"colab-df-convert\" onclick=\"convertToInteractive('df-49488a3b-a3d5-4ed5-8e7a-b8cf9044394a')\"\n",
              "              title=\"Convert this dataframe to an interactive table.\"\n",
              "              style=\"display:none;\">\n",
              "        \n",
              "  <svg xmlns=\"http://www.w3.org/2000/svg\" height=\"24px\"viewBox=\"0 0 24 24\"\n",
              "       width=\"24px\">\n",
              "    <path d=\"M0 0h24v24H0V0z\" fill=\"none\"/>\n",
              "    <path d=\"M18.56 5.44l.94 2.06.94-2.06 2.06-.94-2.06-.94-.94-2.06-.94 2.06-2.06.94zm-11 1L8.5 8.5l.94-2.06 2.06-.94-2.06-.94L8.5 2.5l-.94 2.06-2.06.94zm10 10l.94 2.06.94-2.06 2.06-.94-2.06-.94-.94-2.06-.94 2.06-2.06.94z\"/><path d=\"M17.41 7.96l-1.37-1.37c-.4-.4-.92-.59-1.43-.59-.52 0-1.04.2-1.43.59L10.3 9.45l-7.72 7.72c-.78.78-.78 2.05 0 2.83L4 21.41c.39.39.9.59 1.41.59.51 0 1.02-.2 1.41-.59l7.78-7.78 2.81-2.81c.8-.78.8-2.07 0-2.86zM5.41 20L4 18.59l7.72-7.72 1.47 1.35L5.41 20z\"/>\n",
              "  </svg>\n",
              "      </button>\n",
              "      \n",
              "  <style>\n",
              "    .colab-df-container {\n",
              "      display:flex;\n",
              "      flex-wrap:wrap;\n",
              "      gap: 12px;\n",
              "    }\n",
              "\n",
              "    .colab-df-convert {\n",
              "      background-color: #E8F0FE;\n",
              "      border: none;\n",
              "      border-radius: 50%;\n",
              "      cursor: pointer;\n",
              "      display: none;\n",
              "      fill: #1967D2;\n",
              "      height: 32px;\n",
              "      padding: 0 0 0 0;\n",
              "      width: 32px;\n",
              "    }\n",
              "\n",
              "    .colab-df-convert:hover {\n",
              "      background-color: #E2EBFA;\n",
              "      box-shadow: 0px 1px 2px rgba(60, 64, 67, 0.3), 0px 1px 3px 1px rgba(60, 64, 67, 0.15);\n",
              "      fill: #174EA6;\n",
              "    }\n",
              "\n",
              "    [theme=dark] .colab-df-convert {\n",
              "      background-color: #3B4455;\n",
              "      fill: #D2E3FC;\n",
              "    }\n",
              "\n",
              "    [theme=dark] .colab-df-convert:hover {\n",
              "      background-color: #434B5C;\n",
              "      box-shadow: 0px 1px 3px 1px rgba(0, 0, 0, 0.15);\n",
              "      filter: drop-shadow(0px 1px 2px rgba(0, 0, 0, 0.3));\n",
              "      fill: #FFFFFF;\n",
              "    }\n",
              "  </style>\n",
              "\n",
              "      <script>\n",
              "        const buttonEl =\n",
              "          document.querySelector('#df-49488a3b-a3d5-4ed5-8e7a-b8cf9044394a button.colab-df-convert');\n",
              "        buttonEl.style.display =\n",
              "          google.colab.kernel.accessAllowed ? 'block' : 'none';\n",
              "\n",
              "        async function convertToInteractive(key) {\n",
              "          const element = document.querySelector('#df-49488a3b-a3d5-4ed5-8e7a-b8cf9044394a');\n",
              "          const dataTable =\n",
              "            await google.colab.kernel.invokeFunction('convertToInteractive',\n",
              "                                                     [key], {});\n",
              "          if (!dataTable) return;\n",
              "\n",
              "          const docLinkHtml = 'Like what you see? Visit the ' +\n",
              "            '<a target=\"_blank\" href=https://colab.research.google.com/notebooks/data_table.ipynb>data table notebook</a>'\n",
              "            + ' to learn more about interactive tables.';\n",
              "          element.innerHTML = '';\n",
              "          dataTable['output_type'] = 'display_data';\n",
              "          await google.colab.output.renderOutput(dataTable, element);\n",
              "          const docLink = document.createElement('div');\n",
              "          docLink.innerHTML = docLinkHtml;\n",
              "          element.appendChild(docLink);\n",
              "        }\n",
              "      </script>\n",
              "    </div>\n",
              "  </div>\n",
              "  "
            ]
          },
          "metadata": {},
          "execution_count": 34
        }
      ]
    },
    {
      "cell_type": "code",
      "source": [
        "y = data['Outcome'].values\n",
        "y = y.astype('float32')\n",
        "y"
      ],
      "metadata": {
        "colab": {
          "base_uri": "https://localhost:8080/"
        },
        "id": "PVhc3IssEZqd",
        "outputId": "9865d137-ad94-4bd8-a29e-3d84fcb348db"
      },
      "execution_count": null,
      "outputs": [
        {
          "output_type": "execute_result",
          "data": {
            "text/plain": [
              "array([1., 0., 1., 0., 1., 0., 1., 0., 1., 1., 0., 1., 0., 1., 1., 1., 1.,\n",
              "       1., 0., 1., 0., 0., 1., 1., 1., 1., 1., 0., 0., 0., 0., 1., 0., 0.,\n",
              "       0., 0., 0., 1., 1., 1., 0., 0., 0., 1., 0., 1., 0., 0., 1., 0., 0.,\n",
              "       0., 0., 1., 0., 0., 1., 0., 0., 0., 0., 1., 0., 0., 1., 0., 1., 0.,\n",
              "       0., 0., 1., 0., 1., 0., 0., 0., 0., 0., 1., 0., 0., 0., 0., 0., 1.,\n",
              "       0., 0., 0., 1., 0., 0., 0., 0., 1., 0., 0., 0., 0., 0., 1., 1., 0.,\n",
              "       0., 0., 0., 0., 0., 0., 0., 1., 1., 1., 0., 0., 1., 1., 1., 0., 0.,\n",
              "       0., 1., 0., 0., 0., 1., 1., 0., 0., 1., 1., 1., 1., 1., 0., 0., 0.,\n",
              "       0., 0., 0., 0., 0., 0., 0., 1., 0., 0., 0., 0., 0., 0., 0., 0., 1.,\n",
              "       0., 1., 1., 0., 0., 0., 1., 0., 0., 0., 0., 1., 1., 0., 0., 0., 0.,\n",
              "       1., 1., 0., 0., 0., 1., 0., 1., 0., 1., 0., 0., 0., 0., 0., 1., 1.,\n",
              "       1., 1., 1., 0., 0., 1., 1., 0., 1., 0., 1., 1., 1., 0., 0., 0., 0.,\n",
              "       0., 0., 1., 1., 0., 1., 0., 0., 0., 1., 1., 1., 1., 0., 1., 1., 1.,\n",
              "       1., 0., 0., 0., 0., 0., 1., 0., 0., 1., 1., 0., 0., 0., 1., 1., 1.,\n",
              "       1., 0., 0., 0., 1., 1., 0., 1., 0., 0., 0., 0., 0., 0., 0., 0., 1.,\n",
              "       1., 0., 0., 0., 1., 0., 1., 0., 0., 1., 0., 1., 0., 0., 1., 1., 0.,\n",
              "       0., 0., 0., 0., 1., 0., 0., 0., 1., 0., 0., 1., 1., 0., 0., 1., 0.,\n",
              "       0., 0., 1., 1., 1., 0., 0., 1., 0., 1., 0., 1., 1., 0., 1., 0., 0.,\n",
              "       1., 0., 1., 1., 0., 0., 1., 0., 1., 0., 0., 1., 0., 1., 0., 1., 1.,\n",
              "       1., 0., 0., 1., 0., 1., 0., 0., 0., 1., 0., 0., 0., 0., 1., 1., 1.,\n",
              "       0., 0., 0., 0., 0., 0., 0., 0., 0., 1., 0., 0., 0., 0., 0., 1., 1.,\n",
              "       1., 0., 1., 1., 0., 0., 1., 0., 0., 1., 0., 0., 1., 1., 0., 0., 0.,\n",
              "       0., 1., 0., 0., 1., 0., 0., 0., 0., 0., 0., 0., 1., 1., 1., 0., 0.,\n",
              "       1., 0., 0., 1., 0., 0., 1., 0., 1., 1., 0., 1., 0., 1., 0., 1., 0.,\n",
              "       1., 1., 0., 0., 0., 0., 1., 1., 0., 1., 0., 1., 0., 0., 0., 0., 1.,\n",
              "       1., 0., 1., 0., 1., 0., 0., 0., 0., 0., 1., 0., 0., 0., 0., 1., 0.,\n",
              "       0., 1., 1., 1., 0., 0., 1., 0., 0., 1., 0., 0., 0., 1., 0., 0., 1.,\n",
              "       0., 0., 0., 0., 0., 0., 0., 0., 0., 1., 0., 0., 0., 0., 0., 0., 0.,\n",
              "       1., 0., 0., 0., 1., 0., 0., 0., 1., 1., 0., 0., 0., 0., 0., 0., 0.,\n",
              "       1., 0., 0., 0., 0., 1., 0., 0., 0., 1., 0., 0., 0., 1., 0., 0., 0.,\n",
              "       1., 0., 0., 0., 0., 1., 1., 0., 0., 0., 0., 0., 0., 1., 0., 0., 0.,\n",
              "       0., 0., 0., 0., 0., 0., 0., 0., 1., 0., 0., 0., 1., 1., 1., 1., 0.,\n",
              "       0., 1., 1., 0., 0., 0., 0., 0., 0., 0., 0., 0., 0., 0., 0., 0., 1.,\n",
              "       1., 0., 0., 0., 0., 0., 0., 0., 1., 0., 0., 0., 0., 0., 0., 0., 1.,\n",
              "       0., 1., 1., 0., 0., 0., 1., 0., 1., 0., 1., 0., 1., 0., 1., 0., 0.,\n",
              "       1., 0., 0., 1., 0., 0., 0., 0., 1., 1., 0., 1., 0., 0., 0., 0., 1.,\n",
              "       1., 0., 1., 0., 0., 0., 1., 1., 0., 0., 0., 0., 0., 0., 0., 0., 0.,\n",
              "       0., 1., 0., 0., 0., 0., 1., 0., 0., 1., 0., 0., 0., 1., 0., 0., 0.,\n",
              "       1., 1., 1., 0., 0., 0., 0., 0., 0., 1., 0., 0., 0., 1., 0., 1., 1.,\n",
              "       1., 1., 0., 1., 1., 0., 0., 0., 0., 0., 0., 0., 1., 1., 0., 1., 0.,\n",
              "       0., 1., 0., 1., 0., 0., 0., 0., 0., 1., 0., 1., 0., 1., 0., 1., 1.,\n",
              "       0., 0., 0., 0., 1., 1., 0., 0., 0., 1., 0., 1., 1., 0., 0., 1., 0.,\n",
              "       0., 1., 1., 0., 0., 1., 0., 0., 1., 0., 0., 0., 0., 0., 0., 0., 1.,\n",
              "       1., 1., 0., 0., 0., 0., 0., 0., 1., 1., 0., 0., 1., 0., 0., 1., 0.,\n",
              "       1., 1., 1., 0., 0., 1., 1., 1., 0., 1., 0., 1., 0., 1., 0., 0., 0.,\n",
              "       0., 1., 0.], dtype=float32)"
            ]
          },
          "metadata": {},
          "execution_count": 35
        }
      ]
    },
    {
      "cell_type": "code",
      "source": [
        "from sklearn.model_selection import train_test_split\n",
        "\n",
        "x_train, x_test, y_train, y_test = train_test_split(x, y, test_size = 0.2)\n",
        "print('x_train :', x_train.shape, 'x_test :', x_test.shape, '\\n', 'y_train :', y_train.shape, 'y_test :', y_test.shape)"
      ],
      "metadata": {
        "colab": {
          "base_uri": "https://localhost:8080/"
        },
        "id": "NHBi6YVPGtUN",
        "outputId": "669b4958-0159-4ece-b371-e8013d19d3eb"
      },
      "execution_count": null,
      "outputs": [
        {
          "output_type": "stream",
          "name": "stdout",
          "text": [
            "x_train : (614, 8) x_test : (154, 8) \n",
            " y_train : (614,) y_test : (154,)\n"
          ]
        }
      ]
    },
    {
      "cell_type": "code",
      "source": [
        "import tensorflow as tf\n",
        "from tensorflow.keras.layers import Dense\n",
        "from tensorflow.keras.models import Sequential\n",
        "\n",
        "model = Sequential()\n",
        "model.add(Dense(16, activation='relu', input_shape=(8,))) #input layer + hidden layer\n",
        "model.add(Dense(8, activation='relu')) #hidden layer dengan 8 node\n",
        "model.add(Dense(8, activation='relu')) #hidden layer dengan 8 node\n",
        "model.add(Dense(1, activation='sigmoid')) #output layer dengan 1 node\n",
        "model.summary()"
      ],
      "metadata": {
        "colab": {
          "base_uri": "https://localhost:8080/"
        },
        "id": "Y8Fkz8d0IqoJ",
        "outputId": "1307f749-87a4-461e-f4f8-9636c6f56511"
      },
      "execution_count": null,
      "outputs": [
        {
          "output_type": "stream",
          "name": "stdout",
          "text": [
            "Model: \"sequential_10\"\n",
            "_________________________________________________________________\n",
            " Layer (type)                Output Shape              Param #   \n",
            "=================================================================\n",
            " dense_45 (Dense)            (None, 16)                144       \n",
            "                                                                 \n",
            " dense_46 (Dense)            (None, 8)                 136       \n",
            "                                                                 \n",
            " dense_47 (Dense)            (None, 8)                 72        \n",
            "                                                                 \n",
            " dense_48 (Dense)            (None, 1)                 9         \n",
            "                                                                 \n",
            "=================================================================\n",
            "Total params: 361\n",
            "Trainable params: 361\n",
            "Non-trainable params: 0\n",
            "_________________________________________________________________\n"
          ]
        }
      ]
    },
    {
      "cell_type": "code",
      "source": [
        "model.compile(\n",
        "    optimizer = 'adam',\n",
        "    loss='binary_crossentropy',\n",
        "    metrics = ['accuracy']\n",
        ")"
      ],
      "metadata": {
        "id": "TNKfDwiGJnMi"
      },
      "execution_count": null,
      "outputs": []
    },
    {
      "cell_type": "code",
      "source": [
        "model.fit(\n",
        "    x_train,\n",
        "    y_train,\n",
        "    epochs = 100,\n",
        "    batch_size = 32,\n",
        "    verbose = 1\n",
        ")"
      ],
      "metadata": {
        "colab": {
          "base_uri": "https://localhost:8080/"
        },
        "id": "saLWboOxJthC",
        "outputId": "9f5b65e3-b20c-4664-e72e-7b94eddd5e70"
      },
      "execution_count": null,
      "outputs": [
        {
          "output_type": "stream",
          "name": "stdout",
          "text": [
            "Epoch 1/100\n",
            "20/20 [==============================] - 1s 2ms/step - loss: 6.3422 - accuracy: 0.6384\n",
            "Epoch 2/100\n",
            "20/20 [==============================] - 0s 3ms/step - loss: 1.4569 - accuracy: 0.5879\n",
            "Epoch 3/100\n",
            "20/20 [==============================] - 0s 2ms/step - loss: 1.1507 - accuracy: 0.5945\n",
            "Epoch 4/100\n",
            "20/20 [==============================] - 0s 2ms/step - loss: 1.0223 - accuracy: 0.6124\n",
            "Epoch 5/100\n",
            "20/20 [==============================] - 0s 3ms/step - loss: 0.9739 - accuracy: 0.6107\n",
            "Epoch 6/100\n",
            "20/20 [==============================] - 0s 2ms/step - loss: 0.9309 - accuracy: 0.6156\n",
            "Epoch 7/100\n",
            "20/20 [==============================] - 0s 3ms/step - loss: 0.8745 - accuracy: 0.6221\n",
            "Epoch 8/100\n",
            "20/20 [==============================] - 0s 2ms/step - loss: 0.8768 - accuracy: 0.6352\n",
            "Epoch 9/100\n",
            "20/20 [==============================] - 0s 2ms/step - loss: 0.8637 - accuracy: 0.6368\n",
            "Epoch 10/100\n",
            "20/20 [==============================] - 0s 3ms/step - loss: 0.7918 - accuracy: 0.6384\n",
            "Epoch 11/100\n",
            "20/20 [==============================] - 0s 3ms/step - loss: 0.7786 - accuracy: 0.6270\n",
            "Epoch 12/100\n",
            "20/20 [==============================] - 0s 4ms/step - loss: 0.7694 - accuracy: 0.6417\n",
            "Epoch 13/100\n",
            "20/20 [==============================] - 0s 3ms/step - loss: 0.7349 - accuracy: 0.6466\n",
            "Epoch 14/100\n",
            "20/20 [==============================] - 0s 3ms/step - loss: 0.7319 - accuracy: 0.6205\n",
            "Epoch 15/100\n",
            "20/20 [==============================] - 0s 2ms/step - loss: 0.7288 - accuracy: 0.6384\n",
            "Epoch 16/100\n",
            "20/20 [==============================] - 0s 2ms/step - loss: 0.6981 - accuracy: 0.6352\n",
            "Epoch 17/100\n",
            "20/20 [==============================] - 0s 2ms/step - loss: 0.7038 - accuracy: 0.6498\n",
            "Epoch 18/100\n",
            "20/20 [==============================] - 0s 2ms/step - loss: 0.7004 - accuracy: 0.6515\n",
            "Epoch 19/100\n",
            "20/20 [==============================] - 0s 3ms/step - loss: 0.6703 - accuracy: 0.6564\n",
            "Epoch 20/100\n",
            "20/20 [==============================] - 0s 2ms/step - loss: 0.6914 - accuracy: 0.6482\n",
            "Epoch 21/100\n",
            "20/20 [==============================] - 0s 3ms/step - loss: 0.7070 - accuracy: 0.6401\n",
            "Epoch 22/100\n",
            "20/20 [==============================] - 0s 3ms/step - loss: 0.6415 - accuracy: 0.6726\n",
            "Epoch 23/100\n",
            "20/20 [==============================] - 0s 2ms/step - loss: 0.6679 - accuracy: 0.6710\n",
            "Epoch 24/100\n",
            "20/20 [==============================] - 0s 2ms/step - loss: 0.6474 - accuracy: 0.6678\n",
            "Epoch 25/100\n",
            "20/20 [==============================] - 0s 2ms/step - loss: 0.6387 - accuracy: 0.6612\n",
            "Epoch 26/100\n",
            "20/20 [==============================] - 0s 2ms/step - loss: 0.6709 - accuracy: 0.6498\n",
            "Epoch 27/100\n",
            "20/20 [==============================] - 0s 2ms/step - loss: 0.6350 - accuracy: 0.6873\n",
            "Epoch 28/100\n",
            "20/20 [==============================] - 0s 3ms/step - loss: 0.6821 - accuracy: 0.6433\n",
            "Epoch 29/100\n",
            "20/20 [==============================] - 0s 3ms/step - loss: 0.6473 - accuracy: 0.6824\n",
            "Epoch 30/100\n",
            "20/20 [==============================] - 0s 2ms/step - loss: 0.6276 - accuracy: 0.6661\n",
            "Epoch 31/100\n",
            "20/20 [==============================] - 0s 2ms/step - loss: 0.6231 - accuracy: 0.6759\n",
            "Epoch 32/100\n",
            "20/20 [==============================] - 0s 2ms/step - loss: 0.6205 - accuracy: 0.6678\n",
            "Epoch 33/100\n",
            "20/20 [==============================] - 0s 2ms/step - loss: 0.6033 - accuracy: 0.6824\n",
            "Epoch 34/100\n",
            "20/20 [==============================] - 0s 2ms/step - loss: 0.6037 - accuracy: 0.6759\n",
            "Epoch 35/100\n",
            "20/20 [==============================] - 0s 2ms/step - loss: 0.6344 - accuracy: 0.6759\n",
            "Epoch 36/100\n",
            "20/20 [==============================] - 0s 2ms/step - loss: 0.6133 - accuracy: 0.6922\n",
            "Epoch 37/100\n",
            "20/20 [==============================] - 0s 2ms/step - loss: 0.5964 - accuracy: 0.6726\n",
            "Epoch 38/100\n",
            "20/20 [==============================] - 0s 2ms/step - loss: 0.5993 - accuracy: 0.7020\n",
            "Epoch 39/100\n",
            "20/20 [==============================] - 0s 2ms/step - loss: 0.6049 - accuracy: 0.6987\n",
            "Epoch 40/100\n",
            "20/20 [==============================] - 0s 2ms/step - loss: 0.5881 - accuracy: 0.7003\n",
            "Epoch 41/100\n",
            "20/20 [==============================] - 0s 2ms/step - loss: 0.5814 - accuracy: 0.6857\n",
            "Epoch 42/100\n",
            "20/20 [==============================] - 0s 2ms/step - loss: 0.5824 - accuracy: 0.6922\n",
            "Epoch 43/100\n",
            "20/20 [==============================] - 0s 2ms/step - loss: 0.5877 - accuracy: 0.6971\n",
            "Epoch 44/100\n",
            "20/20 [==============================] - 0s 3ms/step - loss: 0.5732 - accuracy: 0.7052\n",
            "Epoch 45/100\n",
            "20/20 [==============================] - 0s 3ms/step - loss: 0.5799 - accuracy: 0.6971\n",
            "Epoch 46/100\n",
            "20/20 [==============================] - 0s 2ms/step - loss: 0.5809 - accuracy: 0.6954\n",
            "Epoch 47/100\n",
            "20/20 [==============================] - 0s 2ms/step - loss: 0.5845 - accuracy: 0.7166\n",
            "Epoch 48/100\n",
            "20/20 [==============================] - 0s 4ms/step - loss: 0.5712 - accuracy: 0.7117\n",
            "Epoch 49/100\n",
            "20/20 [==============================] - 0s 2ms/step - loss: 0.5700 - accuracy: 0.7101\n",
            "Epoch 50/100\n",
            "20/20 [==============================] - 0s 2ms/step - loss: 0.5657 - accuracy: 0.7150\n",
            "Epoch 51/100\n",
            "20/20 [==============================] - 0s 2ms/step - loss: 0.5778 - accuracy: 0.7052\n",
            "Epoch 52/100\n",
            "20/20 [==============================] - 0s 2ms/step - loss: 0.5775 - accuracy: 0.7101\n",
            "Epoch 53/100\n",
            "20/20 [==============================] - 0s 2ms/step - loss: 0.6117 - accuracy: 0.7085\n",
            "Epoch 54/100\n",
            "20/20 [==============================] - 0s 3ms/step - loss: 0.5767 - accuracy: 0.7068\n",
            "Epoch 55/100\n",
            "20/20 [==============================] - 0s 2ms/step - loss: 0.5621 - accuracy: 0.7101\n",
            "Epoch 56/100\n",
            "20/20 [==============================] - 0s 3ms/step - loss: 0.5858 - accuracy: 0.7085\n",
            "Epoch 57/100\n",
            "20/20 [==============================] - 0s 2ms/step - loss: 0.5876 - accuracy: 0.7052\n",
            "Epoch 58/100\n",
            "20/20 [==============================] - 0s 3ms/step - loss: 0.5904 - accuracy: 0.6938\n",
            "Epoch 59/100\n",
            "20/20 [==============================] - 0s 2ms/step - loss: 0.5519 - accuracy: 0.7117\n",
            "Epoch 60/100\n",
            "20/20 [==============================] - 0s 2ms/step - loss: 0.5605 - accuracy: 0.7117\n",
            "Epoch 61/100\n",
            "20/20 [==============================] - 0s 2ms/step - loss: 0.5644 - accuracy: 0.7134\n",
            "Epoch 62/100\n",
            "20/20 [==============================] - 0s 2ms/step - loss: 0.5478 - accuracy: 0.7182\n",
            "Epoch 63/100\n",
            "20/20 [==============================] - 0s 2ms/step - loss: 0.5743 - accuracy: 0.6857\n",
            "Epoch 64/100\n",
            "20/20 [==============================] - 0s 2ms/step - loss: 0.5572 - accuracy: 0.7068\n",
            "Epoch 65/100\n",
            "20/20 [==============================] - 0s 2ms/step - loss: 0.5962 - accuracy: 0.6775\n",
            "Epoch 66/100\n",
            "20/20 [==============================] - 0s 3ms/step - loss: 0.5844 - accuracy: 0.7068\n",
            "Epoch 67/100\n",
            "20/20 [==============================] - 0s 2ms/step - loss: 0.5779 - accuracy: 0.7134\n",
            "Epoch 68/100\n",
            "20/20 [==============================] - 0s 2ms/step - loss: 0.5606 - accuracy: 0.7085\n",
            "Epoch 69/100\n",
            "20/20 [==============================] - 0s 2ms/step - loss: 0.7366 - accuracy: 0.6612\n",
            "Epoch 70/100\n",
            "20/20 [==============================] - 0s 2ms/step - loss: 0.5874 - accuracy: 0.7003\n",
            "Epoch 71/100\n",
            "20/20 [==============================] - 0s 2ms/step - loss: 0.5598 - accuracy: 0.7215\n",
            "Epoch 72/100\n",
            "20/20 [==============================] - 0s 2ms/step - loss: 0.5399 - accuracy: 0.7199\n",
            "Epoch 73/100\n",
            "20/20 [==============================] - 0s 2ms/step - loss: 0.5335 - accuracy: 0.7345\n",
            "Epoch 74/100\n",
            "20/20 [==============================] - 0s 2ms/step - loss: 0.5336 - accuracy: 0.7248\n",
            "Epoch 75/100\n",
            "20/20 [==============================] - 0s 2ms/step - loss: 0.5333 - accuracy: 0.7264\n",
            "Epoch 76/100\n",
            "20/20 [==============================] - 0s 2ms/step - loss: 0.5606 - accuracy: 0.6971\n",
            "Epoch 77/100\n",
            "20/20 [==============================] - 0s 2ms/step - loss: 0.5407 - accuracy: 0.7313\n",
            "Epoch 78/100\n",
            "20/20 [==============================] - 0s 2ms/step - loss: 0.5431 - accuracy: 0.7264\n",
            "Epoch 79/100\n",
            "20/20 [==============================] - 0s 2ms/step - loss: 0.5401 - accuracy: 0.7345\n",
            "Epoch 80/100\n",
            "20/20 [==============================] - 0s 2ms/step - loss: 0.5377 - accuracy: 0.7296\n",
            "Epoch 81/100\n",
            "20/20 [==============================] - 0s 2ms/step - loss: 0.5312 - accuracy: 0.7394\n",
            "Epoch 82/100\n",
            "20/20 [==============================] - 0s 2ms/step - loss: 0.5331 - accuracy: 0.7264\n",
            "Epoch 83/100\n",
            "20/20 [==============================] - 0s 2ms/step - loss: 0.5305 - accuracy: 0.7345\n",
            "Epoch 84/100\n",
            "20/20 [==============================] - 0s 2ms/step - loss: 0.5327 - accuracy: 0.7345\n",
            "Epoch 85/100\n",
            "20/20 [==============================] - 0s 2ms/step - loss: 0.5486 - accuracy: 0.7101\n",
            "Epoch 86/100\n",
            "20/20 [==============================] - 0s 3ms/step - loss: 0.5260 - accuracy: 0.7427\n",
            "Epoch 87/100\n",
            "20/20 [==============================] - 0s 2ms/step - loss: 0.5494 - accuracy: 0.7329\n",
            "Epoch 88/100\n",
            "20/20 [==============================] - 0s 2ms/step - loss: 0.5476 - accuracy: 0.7280\n",
            "Epoch 89/100\n",
            "20/20 [==============================] - 0s 2ms/step - loss: 0.5579 - accuracy: 0.7117\n",
            "Epoch 90/100\n",
            "20/20 [==============================] - 0s 2ms/step - loss: 0.5165 - accuracy: 0.7427\n",
            "Epoch 91/100\n",
            "20/20 [==============================] - 0s 2ms/step - loss: 0.5345 - accuracy: 0.7329\n",
            "Epoch 92/100\n",
            "20/20 [==============================] - 0s 2ms/step - loss: 0.5275 - accuracy: 0.7378\n",
            "Epoch 93/100\n",
            "20/20 [==============================] - 0s 2ms/step - loss: 0.5559 - accuracy: 0.7329\n",
            "Epoch 94/100\n",
            "20/20 [==============================] - 0s 2ms/step - loss: 0.5231 - accuracy: 0.7476\n",
            "Epoch 95/100\n",
            "20/20 [==============================] - 0s 2ms/step - loss: 0.5196 - accuracy: 0.7427\n",
            "Epoch 96/100\n",
            "20/20 [==============================] - 0s 2ms/step - loss: 0.5164 - accuracy: 0.7329\n",
            "Epoch 97/100\n",
            "20/20 [==============================] - 0s 2ms/step - loss: 0.5202 - accuracy: 0.7524\n",
            "Epoch 98/100\n",
            "20/20 [==============================] - 0s 2ms/step - loss: 0.5575 - accuracy: 0.7068\n",
            "Epoch 99/100\n",
            "20/20 [==============================] - 0s 2ms/step - loss: 0.5340 - accuracy: 0.7410\n",
            "Epoch 100/100\n",
            "20/20 [==============================] - 0s 3ms/step - loss: 0.5313 - accuracy: 0.7231\n"
          ]
        },
        {
          "output_type": "execute_result",
          "data": {
            "text/plain": [
              "<keras.callbacks.History at 0x7f9885159090>"
            ]
          },
          "metadata": {},
          "execution_count": 39
        }
      ]
    },
    {
      "cell_type": "code",
      "source": [
        "history = model.fit(\n",
        "    x_train,\n",
        "    y_train,\n",
        "    epochs = 200,\n",
        "    batch_size = 32,\n",
        "    verbose = 1,\n",
        "    validation_split=0.3\n",
        ")"
      ],
      "metadata": {
        "colab": {
          "base_uri": "https://localhost:8080/"
        },
        "id": "bDKEaG7RKB-7",
        "outputId": "405f15b1-48ac-4985-d186-40cf06f46f7f"
      },
      "execution_count": null,
      "outputs": [
        {
          "output_type": "stream",
          "name": "stdout",
          "text": [
            "Epoch 1/200\n",
            "14/14 [==============================] - 0s 18ms/step - loss: 0.5642 - accuracy: 0.7249 - val_loss: 0.4949 - val_accuracy: 0.7459\n",
            "Epoch 2/200\n",
            "14/14 [==============================] - 0s 5ms/step - loss: 0.5444 - accuracy: 0.7413 - val_loss: 0.4998 - val_accuracy: 0.7568\n",
            "Epoch 3/200\n",
            "14/14 [==============================] - 0s 5ms/step - loss: 0.5261 - accuracy: 0.7506 - val_loss: 0.4736 - val_accuracy: 0.7730\n",
            "Epoch 4/200\n",
            "14/14 [==============================] - 0s 5ms/step - loss: 0.5244 - accuracy: 0.7576 - val_loss: 0.4814 - val_accuracy: 0.7568\n",
            "Epoch 5/200\n",
            "14/14 [==============================] - 0s 6ms/step - loss: 0.5274 - accuracy: 0.7552 - val_loss: 0.4754 - val_accuracy: 0.7459\n",
            "Epoch 6/200\n",
            "14/14 [==============================] - 0s 5ms/step - loss: 0.5148 - accuracy: 0.7669 - val_loss: 0.5537 - val_accuracy: 0.7243\n",
            "Epoch 7/200\n",
            "14/14 [==============================] - 0s 5ms/step - loss: 0.5433 - accuracy: 0.7436 - val_loss: 0.4765 - val_accuracy: 0.7459\n",
            "Epoch 8/200\n",
            "14/14 [==============================] - 0s 6ms/step - loss: 0.5196 - accuracy: 0.7529 - val_loss: 0.4878 - val_accuracy: 0.7514\n",
            "Epoch 9/200\n",
            "14/14 [==============================] - 0s 5ms/step - loss: 0.5171 - accuracy: 0.7576 - val_loss: 0.4838 - val_accuracy: 0.7622\n",
            "Epoch 10/200\n",
            "14/14 [==============================] - 0s 6ms/step - loss: 0.5175 - accuracy: 0.7716 - val_loss: 0.4830 - val_accuracy: 0.7676\n",
            "Epoch 11/200\n",
            "14/14 [==============================] - 0s 5ms/step - loss: 0.5353 - accuracy: 0.7366 - val_loss: 0.5064 - val_accuracy: 0.7297\n",
            "Epoch 12/200\n",
            "14/14 [==============================] - 0s 5ms/step - loss: 0.5349 - accuracy: 0.7483 - val_loss: 0.5220 - val_accuracy: 0.7297\n",
            "Epoch 13/200\n",
            "14/14 [==============================] - 0s 5ms/step - loss: 0.5522 - accuracy: 0.7366 - val_loss: 0.6025 - val_accuracy: 0.6865\n",
            "Epoch 14/200\n",
            "14/14 [==============================] - 0s 5ms/step - loss: 0.6424 - accuracy: 0.6830 - val_loss: 0.6711 - val_accuracy: 0.6432\n",
            "Epoch 15/200\n",
            "14/14 [==============================] - 0s 4ms/step - loss: 0.5693 - accuracy: 0.7296 - val_loss: 0.4987 - val_accuracy: 0.7514\n",
            "Epoch 16/200\n",
            "14/14 [==============================] - 0s 6ms/step - loss: 0.5303 - accuracy: 0.7413 - val_loss: 0.5073 - val_accuracy: 0.7297\n",
            "Epoch 17/200\n",
            "14/14 [==============================] - 0s 5ms/step - loss: 0.5256 - accuracy: 0.7483 - val_loss: 0.5937 - val_accuracy: 0.6865\n",
            "Epoch 18/200\n",
            "14/14 [==============================] - 0s 5ms/step - loss: 0.5739 - accuracy: 0.7110 - val_loss: 0.6172 - val_accuracy: 0.6919\n",
            "Epoch 19/200\n",
            "14/14 [==============================] - 0s 5ms/step - loss: 0.6187 - accuracy: 0.7040 - val_loss: 0.4958 - val_accuracy: 0.7568\n",
            "Epoch 20/200\n",
            "14/14 [==============================] - 0s 5ms/step - loss: 0.5926 - accuracy: 0.7063 - val_loss: 0.5359 - val_accuracy: 0.7297\n",
            "Epoch 21/200\n",
            "14/14 [==============================] - 0s 5ms/step - loss: 0.6048 - accuracy: 0.7040 - val_loss: 0.4881 - val_accuracy: 0.7730\n",
            "Epoch 22/200\n",
            "14/14 [==============================] - 0s 4ms/step - loss: 0.5246 - accuracy: 0.7576 - val_loss: 0.5402 - val_accuracy: 0.7514\n",
            "Epoch 23/200\n",
            "14/14 [==============================] - 0s 5ms/step - loss: 0.5215 - accuracy: 0.7296 - val_loss: 0.4966 - val_accuracy: 0.7514\n",
            "Epoch 24/200\n",
            "14/14 [==============================] - 0s 5ms/step - loss: 0.5199 - accuracy: 0.7319 - val_loss: 0.4942 - val_accuracy: 0.7459\n",
            "Epoch 25/200\n",
            "14/14 [==============================] - 0s 4ms/step - loss: 0.5122 - accuracy: 0.7599 - val_loss: 0.4874 - val_accuracy: 0.7568\n",
            "Epoch 26/200\n",
            "14/14 [==============================] - 0s 4ms/step - loss: 0.5155 - accuracy: 0.7483 - val_loss: 0.4928 - val_accuracy: 0.7568\n",
            "Epoch 27/200\n",
            "14/14 [==============================] - 0s 7ms/step - loss: 0.5248 - accuracy: 0.7273 - val_loss: 0.4838 - val_accuracy: 0.7405\n",
            "Epoch 28/200\n",
            "14/14 [==============================] - 0s 6ms/step - loss: 0.5175 - accuracy: 0.7716 - val_loss: 0.5366 - val_accuracy: 0.7243\n",
            "Epoch 29/200\n",
            "14/14 [==============================] - 0s 6ms/step - loss: 0.5122 - accuracy: 0.7552 - val_loss: 0.4952 - val_accuracy: 0.7568\n",
            "Epoch 30/200\n",
            "14/14 [==============================] - 0s 6ms/step - loss: 0.5072 - accuracy: 0.7552 - val_loss: 0.4904 - val_accuracy: 0.7622\n",
            "Epoch 31/200\n",
            "14/14 [==============================] - 0s 5ms/step - loss: 0.5084 - accuracy: 0.7459 - val_loss: 0.4979 - val_accuracy: 0.7676\n",
            "Epoch 32/200\n",
            "14/14 [==============================] - 0s 6ms/step - loss: 0.5103 - accuracy: 0.7552 - val_loss: 0.5586 - val_accuracy: 0.7243\n",
            "Epoch 33/200\n",
            "14/14 [==============================] - 0s 7ms/step - loss: 0.5590 - accuracy: 0.7063 - val_loss: 0.5411 - val_accuracy: 0.7027\n",
            "Epoch 34/200\n",
            "14/14 [==============================] - 0s 6ms/step - loss: 0.5067 - accuracy: 0.7459 - val_loss: 0.4848 - val_accuracy: 0.7622\n",
            "Epoch 35/200\n",
            "14/14 [==============================] - 0s 6ms/step - loss: 0.5098 - accuracy: 0.7483 - val_loss: 0.5014 - val_accuracy: 0.7622\n",
            "Epoch 36/200\n",
            "14/14 [==============================] - 0s 6ms/step - loss: 0.5237 - accuracy: 0.7366 - val_loss: 0.5064 - val_accuracy: 0.7405\n",
            "Epoch 37/200\n",
            "14/14 [==============================] - 0s 5ms/step - loss: 0.5087 - accuracy: 0.7622 - val_loss: 0.5226 - val_accuracy: 0.7243\n",
            "Epoch 38/200\n",
            "14/14 [==============================] - 0s 5ms/step - loss: 0.5096 - accuracy: 0.7762 - val_loss: 0.5101 - val_accuracy: 0.7081\n",
            "Epoch 39/200\n",
            "14/14 [==============================] - 0s 5ms/step - loss: 0.4889 - accuracy: 0.7762 - val_loss: 0.5259 - val_accuracy: 0.7405\n",
            "Epoch 40/200\n",
            "14/14 [==============================] - 0s 7ms/step - loss: 0.5512 - accuracy: 0.7156 - val_loss: 0.5393 - val_accuracy: 0.7297\n",
            "Epoch 41/200\n",
            "14/14 [==============================] - 0s 4ms/step - loss: 0.6059 - accuracy: 0.6900 - val_loss: 0.5045 - val_accuracy: 0.7568\n",
            "Epoch 42/200\n",
            "14/14 [==============================] - 0s 5ms/step - loss: 0.5663 - accuracy: 0.7016 - val_loss: 0.5154 - val_accuracy: 0.7514\n",
            "Epoch 43/200\n",
            "14/14 [==============================] - 0s 5ms/step - loss: 0.5453 - accuracy: 0.7179 - val_loss: 0.5195 - val_accuracy: 0.7459\n",
            "Epoch 44/200\n",
            "14/14 [==============================] - 0s 5ms/step - loss: 0.5317 - accuracy: 0.7459 - val_loss: 0.4811 - val_accuracy: 0.7568\n",
            "Epoch 45/200\n",
            "14/14 [==============================] - 0s 5ms/step - loss: 0.5194 - accuracy: 0.7506 - val_loss: 0.4977 - val_accuracy: 0.7676\n",
            "Epoch 46/200\n",
            "14/14 [==============================] - 0s 4ms/step - loss: 0.5209 - accuracy: 0.7552 - val_loss: 0.5016 - val_accuracy: 0.7514\n",
            "Epoch 47/200\n",
            "14/14 [==============================] - 0s 4ms/step - loss: 0.4993 - accuracy: 0.7786 - val_loss: 0.4844 - val_accuracy: 0.7676\n",
            "Epoch 48/200\n",
            "14/14 [==============================] - 0s 6ms/step - loss: 0.5183 - accuracy: 0.7506 - val_loss: 0.5205 - val_accuracy: 0.7189\n",
            "Epoch 49/200\n",
            "14/14 [==============================] - 0s 4ms/step - loss: 0.5044 - accuracy: 0.7576 - val_loss: 0.4987 - val_accuracy: 0.7459\n",
            "Epoch 50/200\n",
            "14/14 [==============================] - 0s 4ms/step - loss: 0.5029 - accuracy: 0.7529 - val_loss: 0.4981 - val_accuracy: 0.7568\n",
            "Epoch 51/200\n",
            "14/14 [==============================] - 0s 6ms/step - loss: 0.5337 - accuracy: 0.7413 - val_loss: 0.5251 - val_accuracy: 0.7514\n",
            "Epoch 52/200\n",
            "14/14 [==============================] - 0s 5ms/step - loss: 0.5106 - accuracy: 0.7506 - val_loss: 0.5075 - val_accuracy: 0.7459\n",
            "Epoch 53/200\n",
            "14/14 [==============================] - 0s 4ms/step - loss: 0.5153 - accuracy: 0.7436 - val_loss: 0.4928 - val_accuracy: 0.7514\n",
            "Epoch 54/200\n",
            "14/14 [==============================] - 0s 5ms/step - loss: 0.5031 - accuracy: 0.7529 - val_loss: 0.5074 - val_accuracy: 0.7459\n",
            "Epoch 55/200\n",
            "14/14 [==============================] - 0s 4ms/step - loss: 0.4986 - accuracy: 0.7599 - val_loss: 0.5095 - val_accuracy: 0.7459\n",
            "Epoch 56/200\n",
            "14/14 [==============================] - 0s 6ms/step - loss: 0.4925 - accuracy: 0.7832 - val_loss: 0.4873 - val_accuracy: 0.7730\n",
            "Epoch 57/200\n",
            "14/14 [==============================] - 0s 4ms/step - loss: 0.4928 - accuracy: 0.7739 - val_loss: 0.5071 - val_accuracy: 0.7459\n",
            "Epoch 58/200\n",
            "14/14 [==============================] - 0s 5ms/step - loss: 0.4991 - accuracy: 0.7716 - val_loss: 0.4941 - val_accuracy: 0.7622\n",
            "Epoch 59/200\n",
            "14/14 [==============================] - 0s 4ms/step - loss: 0.4934 - accuracy: 0.7739 - val_loss: 0.4830 - val_accuracy: 0.7622\n",
            "Epoch 60/200\n",
            "14/14 [==============================] - 0s 4ms/step - loss: 0.4882 - accuracy: 0.7669 - val_loss: 0.4970 - val_accuracy: 0.7568\n",
            "Epoch 61/200\n",
            "14/14 [==============================] - 0s 5ms/step - loss: 0.4951 - accuracy: 0.7692 - val_loss: 0.4854 - val_accuracy: 0.7730\n",
            "Epoch 62/200\n",
            "14/14 [==============================] - 0s 4ms/step - loss: 0.4939 - accuracy: 0.7692 - val_loss: 0.5522 - val_accuracy: 0.7459\n",
            "Epoch 63/200\n",
            "14/14 [==============================] - 0s 5ms/step - loss: 0.4982 - accuracy: 0.7622 - val_loss: 0.4885 - val_accuracy: 0.7730\n",
            "Epoch 64/200\n",
            "14/14 [==============================] - 0s 6ms/step - loss: 0.5012 - accuracy: 0.7529 - val_loss: 0.5069 - val_accuracy: 0.7514\n",
            "Epoch 65/200\n",
            "14/14 [==============================] - 0s 5ms/step - loss: 0.5324 - accuracy: 0.7249 - val_loss: 0.4858 - val_accuracy: 0.7568\n",
            "Epoch 66/200\n",
            "14/14 [==============================] - 0s 5ms/step - loss: 0.5405 - accuracy: 0.7203 - val_loss: 0.5020 - val_accuracy: 0.7459\n",
            "Epoch 67/200\n",
            "14/14 [==============================] - 0s 5ms/step - loss: 0.4930 - accuracy: 0.7739 - val_loss: 0.4989 - val_accuracy: 0.7514\n",
            "Epoch 68/200\n",
            "14/14 [==============================] - 0s 6ms/step - loss: 0.4896 - accuracy: 0.7716 - val_loss: 0.5035 - val_accuracy: 0.7351\n",
            "Epoch 69/200\n",
            "14/14 [==============================] - 0s 5ms/step - loss: 0.5022 - accuracy: 0.7739 - val_loss: 0.4852 - val_accuracy: 0.7730\n",
            "Epoch 70/200\n",
            "14/14 [==============================] - 0s 4ms/step - loss: 0.4931 - accuracy: 0.7646 - val_loss: 0.4933 - val_accuracy: 0.7676\n",
            "Epoch 71/200\n",
            "14/14 [==============================] - 0s 5ms/step - loss: 0.4860 - accuracy: 0.7879 - val_loss: 0.4905 - val_accuracy: 0.7730\n",
            "Epoch 72/200\n",
            "14/14 [==============================] - 0s 6ms/step - loss: 0.4878 - accuracy: 0.7879 - val_loss: 0.4800 - val_accuracy: 0.7676\n",
            "Epoch 73/200\n",
            "14/14 [==============================] - 0s 5ms/step - loss: 0.4899 - accuracy: 0.7669 - val_loss: 0.4980 - val_accuracy: 0.7514\n",
            "Epoch 74/200\n",
            "14/14 [==============================] - 0s 5ms/step - loss: 0.4901 - accuracy: 0.7716 - val_loss: 0.4895 - val_accuracy: 0.7459\n",
            "Epoch 75/200\n",
            "14/14 [==============================] - 0s 5ms/step - loss: 0.4888 - accuracy: 0.7832 - val_loss: 0.4892 - val_accuracy: 0.7784\n",
            "Epoch 76/200\n",
            "14/14 [==============================] - 0s 5ms/step - loss: 0.4811 - accuracy: 0.7879 - val_loss: 0.4792 - val_accuracy: 0.7676\n",
            "Epoch 77/200\n",
            "14/14 [==============================] - 0s 5ms/step - loss: 0.4780 - accuracy: 0.7809 - val_loss: 0.5148 - val_accuracy: 0.7351\n",
            "Epoch 78/200\n",
            "14/14 [==============================] - 0s 6ms/step - loss: 0.4873 - accuracy: 0.7786 - val_loss: 0.4811 - val_accuracy: 0.7784\n",
            "Epoch 79/200\n",
            "14/14 [==============================] - 0s 6ms/step - loss: 0.5103 - accuracy: 0.7716 - val_loss: 0.4974 - val_accuracy: 0.7568\n",
            "Epoch 80/200\n",
            "14/14 [==============================] - 0s 5ms/step - loss: 0.5140 - accuracy: 0.7529 - val_loss: 0.5156 - val_accuracy: 0.7622\n",
            "Epoch 81/200\n",
            "14/14 [==============================] - 0s 6ms/step - loss: 0.4981 - accuracy: 0.7646 - val_loss: 0.4842 - val_accuracy: 0.7676\n",
            "Epoch 82/200\n",
            "14/14 [==============================] - 0s 5ms/step - loss: 0.5032 - accuracy: 0.7622 - val_loss: 0.4917 - val_accuracy: 0.7568\n",
            "Epoch 83/200\n",
            "14/14 [==============================] - 0s 5ms/step - loss: 0.4955 - accuracy: 0.7622 - val_loss: 0.4829 - val_accuracy: 0.7676\n",
            "Epoch 84/200\n",
            "14/14 [==============================] - 0s 6ms/step - loss: 0.4826 - accuracy: 0.7786 - val_loss: 0.4863 - val_accuracy: 0.7784\n",
            "Epoch 85/200\n",
            "14/14 [==============================] - 0s 5ms/step - loss: 0.4847 - accuracy: 0.7739 - val_loss: 0.4832 - val_accuracy: 0.7784\n",
            "Epoch 86/200\n",
            "14/14 [==============================] - 0s 6ms/step - loss: 0.4823 - accuracy: 0.7855 - val_loss: 0.4922 - val_accuracy: 0.7676\n",
            "Epoch 87/200\n",
            "14/14 [==============================] - 0s 5ms/step - loss: 0.5014 - accuracy: 0.7762 - val_loss: 0.5393 - val_accuracy: 0.7514\n",
            "Epoch 88/200\n",
            "14/14 [==============================] - 0s 6ms/step - loss: 0.4998 - accuracy: 0.7809 - val_loss: 0.4954 - val_accuracy: 0.7622\n",
            "Epoch 89/200\n",
            "14/14 [==============================] - 0s 6ms/step - loss: 0.4989 - accuracy: 0.7692 - val_loss: 0.4770 - val_accuracy: 0.7676\n",
            "Epoch 90/200\n",
            "14/14 [==============================] - 0s 5ms/step - loss: 0.4970 - accuracy: 0.7646 - val_loss: 0.4903 - val_accuracy: 0.7730\n",
            "Epoch 91/200\n",
            "14/14 [==============================] - 0s 4ms/step - loss: 0.4973 - accuracy: 0.7529 - val_loss: 0.5002 - val_accuracy: 0.7514\n",
            "Epoch 92/200\n",
            "14/14 [==============================] - 0s 4ms/step - loss: 0.4894 - accuracy: 0.7646 - val_loss: 0.5014 - val_accuracy: 0.7459\n",
            "Epoch 93/200\n",
            "14/14 [==============================] - 0s 4ms/step - loss: 0.4954 - accuracy: 0.7576 - val_loss: 0.4861 - val_accuracy: 0.7730\n",
            "Epoch 94/200\n",
            "14/14 [==============================] - 0s 5ms/step - loss: 0.4803 - accuracy: 0.7716 - val_loss: 0.4887 - val_accuracy: 0.7676\n",
            "Epoch 95/200\n",
            "14/14 [==============================] - 0s 5ms/step - loss: 0.4987 - accuracy: 0.7716 - val_loss: 0.4845 - val_accuracy: 0.7838\n",
            "Epoch 96/200\n",
            "14/14 [==============================] - 0s 6ms/step - loss: 0.4871 - accuracy: 0.7762 - val_loss: 0.4779 - val_accuracy: 0.7622\n",
            "Epoch 97/200\n",
            "14/14 [==============================] - 0s 4ms/step - loss: 0.4977 - accuracy: 0.7599 - val_loss: 0.5229 - val_accuracy: 0.7514\n",
            "Epoch 98/200\n",
            "14/14 [==============================] - 0s 5ms/step - loss: 0.5188 - accuracy: 0.7622 - val_loss: 0.4906 - val_accuracy: 0.7622\n",
            "Epoch 99/200\n",
            "14/14 [==============================] - 0s 5ms/step - loss: 0.4894 - accuracy: 0.7855 - val_loss: 0.4804 - val_accuracy: 0.7730\n",
            "Epoch 100/200\n",
            "14/14 [==============================] - 0s 5ms/step - loss: 0.4893 - accuracy: 0.7692 - val_loss: 0.4859 - val_accuracy: 0.7730\n",
            "Epoch 101/200\n",
            "14/14 [==============================] - 0s 4ms/step - loss: 0.4862 - accuracy: 0.7809 - val_loss: 0.4915 - val_accuracy: 0.7568\n",
            "Epoch 102/200\n",
            "14/14 [==============================] - 0s 6ms/step - loss: 0.4744 - accuracy: 0.7809 - val_loss: 0.4770 - val_accuracy: 0.7676\n",
            "Epoch 103/200\n",
            "14/14 [==============================] - 0s 5ms/step - loss: 0.4798 - accuracy: 0.7739 - val_loss: 0.4969 - val_accuracy: 0.7405\n",
            "Epoch 104/200\n",
            "14/14 [==============================] - 0s 6ms/step - loss: 0.4808 - accuracy: 0.7669 - val_loss: 0.5109 - val_accuracy: 0.7514\n",
            "Epoch 105/200\n",
            "14/14 [==============================] - 0s 5ms/step - loss: 0.5051 - accuracy: 0.7576 - val_loss: 0.4879 - val_accuracy: 0.7622\n",
            "Epoch 106/200\n",
            "14/14 [==============================] - 0s 6ms/step - loss: 0.5039 - accuracy: 0.7622 - val_loss: 0.4762 - val_accuracy: 0.7784\n",
            "Epoch 107/200\n",
            "14/14 [==============================] - 0s 7ms/step - loss: 0.4842 - accuracy: 0.7576 - val_loss: 0.4834 - val_accuracy: 0.7784\n",
            "Epoch 108/200\n",
            "14/14 [==============================] - 0s 5ms/step - loss: 0.4871 - accuracy: 0.7762 - val_loss: 0.4749 - val_accuracy: 0.7568\n",
            "Epoch 109/200\n",
            "14/14 [==============================] - 0s 6ms/step - loss: 0.4770 - accuracy: 0.7902 - val_loss: 0.4811 - val_accuracy: 0.7784\n",
            "Epoch 110/200\n",
            "14/14 [==============================] - 0s 7ms/step - loss: 0.4666 - accuracy: 0.7762 - val_loss: 0.5407 - val_accuracy: 0.7351\n",
            "Epoch 111/200\n",
            "14/14 [==============================] - 0s 5ms/step - loss: 0.5132 - accuracy: 0.7692 - val_loss: 0.5250 - val_accuracy: 0.7459\n",
            "Epoch 112/200\n",
            "14/14 [==============================] - 0s 5ms/step - loss: 0.4779 - accuracy: 0.7925 - val_loss: 0.4793 - val_accuracy: 0.7622\n",
            "Epoch 113/200\n",
            "14/14 [==============================] - 0s 5ms/step - loss: 0.4895 - accuracy: 0.7622 - val_loss: 0.4844 - val_accuracy: 0.7676\n",
            "Epoch 114/200\n",
            "14/14 [==============================] - 0s 5ms/step - loss: 0.4782 - accuracy: 0.7762 - val_loss: 0.4850 - val_accuracy: 0.7730\n",
            "Epoch 115/200\n",
            "14/14 [==============================] - 0s 5ms/step - loss: 0.4962 - accuracy: 0.7622 - val_loss: 0.4799 - val_accuracy: 0.7568\n",
            "Epoch 116/200\n",
            "14/14 [==============================] - 0s 6ms/step - loss: 0.5262 - accuracy: 0.7296 - val_loss: 0.5237 - val_accuracy: 0.7297\n",
            "Epoch 117/200\n",
            "14/14 [==============================] - 0s 5ms/step - loss: 0.5266 - accuracy: 0.7646 - val_loss: 0.4978 - val_accuracy: 0.7568\n",
            "Epoch 118/200\n",
            "14/14 [==============================] - 0s 6ms/step - loss: 0.4811 - accuracy: 0.7646 - val_loss: 0.4788 - val_accuracy: 0.7838\n",
            "Epoch 119/200\n",
            "14/14 [==============================] - 0s 6ms/step - loss: 0.4848 - accuracy: 0.7599 - val_loss: 0.4807 - val_accuracy: 0.7676\n",
            "Epoch 120/200\n",
            "14/14 [==============================] - 0s 6ms/step - loss: 0.4846 - accuracy: 0.7646 - val_loss: 0.4885 - val_accuracy: 0.7622\n",
            "Epoch 121/200\n",
            "14/14 [==============================] - 0s 5ms/step - loss: 0.4958 - accuracy: 0.7786 - val_loss: 0.5473 - val_accuracy: 0.7405\n",
            "Epoch 122/200\n",
            "14/14 [==============================] - 0s 5ms/step - loss: 0.5269 - accuracy: 0.7273 - val_loss: 0.5526 - val_accuracy: 0.7243\n",
            "Epoch 123/200\n",
            "14/14 [==============================] - 0s 6ms/step - loss: 0.5079 - accuracy: 0.7506 - val_loss: 0.4826 - val_accuracy: 0.7622\n",
            "Epoch 124/200\n",
            "14/14 [==============================] - 0s 5ms/step - loss: 0.4787 - accuracy: 0.7855 - val_loss: 0.5219 - val_accuracy: 0.7459\n",
            "Epoch 125/200\n",
            "14/14 [==============================] - 0s 6ms/step - loss: 0.4759 - accuracy: 0.7902 - val_loss: 0.4870 - val_accuracy: 0.7622\n",
            "Epoch 126/200\n",
            "14/14 [==============================] - 0s 6ms/step - loss: 0.4778 - accuracy: 0.7762 - val_loss: 0.5325 - val_accuracy: 0.7459\n",
            "Epoch 127/200\n",
            "14/14 [==============================] - 0s 4ms/step - loss: 0.4882 - accuracy: 0.7529 - val_loss: 0.5177 - val_accuracy: 0.7243\n",
            "Epoch 128/200\n",
            "14/14 [==============================] - 0s 4ms/step - loss: 0.4698 - accuracy: 0.7925 - val_loss: 0.4745 - val_accuracy: 0.7730\n",
            "Epoch 129/200\n",
            "14/14 [==============================] - 0s 5ms/step - loss: 0.4714 - accuracy: 0.7855 - val_loss: 0.4772 - val_accuracy: 0.7676\n",
            "Epoch 130/200\n",
            "14/14 [==============================] - 0s 5ms/step - loss: 0.4791 - accuracy: 0.7879 - val_loss: 0.4758 - val_accuracy: 0.7784\n",
            "Epoch 131/200\n",
            "14/14 [==============================] - 0s 5ms/step - loss: 0.4854 - accuracy: 0.7692 - val_loss: 0.4841 - val_accuracy: 0.8000\n",
            "Epoch 132/200\n",
            "14/14 [==============================] - 0s 5ms/step - loss: 0.5172 - accuracy: 0.7786 - val_loss: 0.4811 - val_accuracy: 0.7622\n",
            "Epoch 133/200\n",
            "14/14 [==============================] - 0s 5ms/step - loss: 0.4682 - accuracy: 0.7902 - val_loss: 0.5005 - val_accuracy: 0.7405\n",
            "Epoch 134/200\n",
            "14/14 [==============================] - 0s 4ms/step - loss: 0.4789 - accuracy: 0.7739 - val_loss: 0.5000 - val_accuracy: 0.7514\n",
            "Epoch 135/200\n",
            "14/14 [==============================] - 0s 5ms/step - loss: 0.4825 - accuracy: 0.7739 - val_loss: 0.4740 - val_accuracy: 0.7838\n",
            "Epoch 136/200\n",
            "14/14 [==============================] - 0s 5ms/step - loss: 0.4728 - accuracy: 0.7809 - val_loss: 0.4965 - val_accuracy: 0.7514\n",
            "Epoch 137/200\n",
            "14/14 [==============================] - 0s 6ms/step - loss: 0.4771 - accuracy: 0.7576 - val_loss: 0.5038 - val_accuracy: 0.7405\n",
            "Epoch 138/200\n",
            "14/14 [==============================] - 0s 6ms/step - loss: 0.4928 - accuracy: 0.7622 - val_loss: 0.5885 - val_accuracy: 0.7351\n",
            "Epoch 139/200\n",
            "14/14 [==============================] - 0s 5ms/step - loss: 0.5602 - accuracy: 0.7506 - val_loss: 0.6357 - val_accuracy: 0.7027\n",
            "Epoch 140/200\n",
            "14/14 [==============================] - 0s 5ms/step - loss: 0.5720 - accuracy: 0.7063 - val_loss: 0.5656 - val_accuracy: 0.7405\n",
            "Epoch 141/200\n",
            "14/14 [==============================] - 0s 5ms/step - loss: 0.5972 - accuracy: 0.7063 - val_loss: 0.4769 - val_accuracy: 0.7892\n",
            "Epoch 142/200\n",
            "14/14 [==============================] - 0s 5ms/step - loss: 0.4899 - accuracy: 0.7692 - val_loss: 0.4743 - val_accuracy: 0.7784\n",
            "Epoch 143/200\n",
            "14/14 [==============================] - 0s 8ms/step - loss: 0.4694 - accuracy: 0.7809 - val_loss: 0.4903 - val_accuracy: 0.7459\n",
            "Epoch 144/200\n",
            "14/14 [==============================] - 0s 6ms/step - loss: 0.4868 - accuracy: 0.7879 - val_loss: 0.4711 - val_accuracy: 0.7784\n",
            "Epoch 145/200\n",
            "14/14 [==============================] - 0s 6ms/step - loss: 0.4761 - accuracy: 0.7692 - val_loss: 0.4908 - val_accuracy: 0.7784\n",
            "Epoch 146/200\n",
            "14/14 [==============================] - 0s 6ms/step - loss: 0.4847 - accuracy: 0.7762 - val_loss: 0.4867 - val_accuracy: 0.7568\n",
            "Epoch 147/200\n",
            "14/14 [==============================] - 0s 5ms/step - loss: 0.4702 - accuracy: 0.7739 - val_loss: 0.5022 - val_accuracy: 0.7459\n",
            "Epoch 148/200\n",
            "14/14 [==============================] - 0s 6ms/step - loss: 0.4833 - accuracy: 0.7925 - val_loss: 0.5089 - val_accuracy: 0.7514\n",
            "Epoch 149/200\n",
            "14/14 [==============================] - 0s 6ms/step - loss: 0.5055 - accuracy: 0.7529 - val_loss: 0.5900 - val_accuracy: 0.7351\n",
            "Epoch 150/200\n",
            "14/14 [==============================] - 0s 6ms/step - loss: 0.4937 - accuracy: 0.7646 - val_loss: 0.4908 - val_accuracy: 0.7459\n",
            "Epoch 151/200\n",
            "14/14 [==============================] - 0s 7ms/step - loss: 0.4687 - accuracy: 0.7809 - val_loss: 0.4820 - val_accuracy: 0.7568\n",
            "Epoch 152/200\n",
            "14/14 [==============================] - 0s 7ms/step - loss: 0.4676 - accuracy: 0.7902 - val_loss: 0.4829 - val_accuracy: 0.7514\n",
            "Epoch 153/200\n",
            "14/14 [==============================] - 0s 6ms/step - loss: 0.4656 - accuracy: 0.7786 - val_loss: 0.5092 - val_accuracy: 0.7459\n",
            "Epoch 154/200\n",
            "14/14 [==============================] - 0s 5ms/step - loss: 0.4829 - accuracy: 0.7786 - val_loss: 0.4896 - val_accuracy: 0.7838\n",
            "Epoch 155/200\n",
            "14/14 [==============================] - 0s 7ms/step - loss: 0.4779 - accuracy: 0.7646 - val_loss: 0.4749 - val_accuracy: 0.7784\n",
            "Epoch 156/200\n",
            "14/14 [==============================] - 0s 5ms/step - loss: 0.4687 - accuracy: 0.7809 - val_loss: 0.4755 - val_accuracy: 0.7676\n",
            "Epoch 157/200\n",
            "14/14 [==============================] - 0s 6ms/step - loss: 0.4776 - accuracy: 0.7762 - val_loss: 0.5337 - val_accuracy: 0.7459\n",
            "Epoch 158/200\n",
            "14/14 [==============================] - 0s 6ms/step - loss: 0.5231 - accuracy: 0.7483 - val_loss: 0.4864 - val_accuracy: 0.7568\n",
            "Epoch 159/200\n",
            "14/14 [==============================] - 0s 6ms/step - loss: 0.4990 - accuracy: 0.7436 - val_loss: 0.4786 - val_accuracy: 0.7784\n",
            "Epoch 160/200\n",
            "14/14 [==============================] - 0s 6ms/step - loss: 0.4643 - accuracy: 0.7949 - val_loss: 0.4726 - val_accuracy: 0.7784\n",
            "Epoch 161/200\n",
            "14/14 [==============================] - 0s 5ms/step - loss: 0.4706 - accuracy: 0.7529 - val_loss: 0.4750 - val_accuracy: 0.7730\n",
            "Epoch 162/200\n",
            "14/14 [==============================] - 0s 6ms/step - loss: 0.4586 - accuracy: 0.7739 - val_loss: 0.4972 - val_accuracy: 0.7405\n",
            "Epoch 163/200\n",
            "14/14 [==============================] - 0s 4ms/step - loss: 0.4821 - accuracy: 0.7739 - val_loss: 0.4980 - val_accuracy: 0.7568\n",
            "Epoch 164/200\n",
            "14/14 [==============================] - 0s 5ms/step - loss: 0.4767 - accuracy: 0.7669 - val_loss: 0.4886 - val_accuracy: 0.7514\n",
            "Epoch 165/200\n",
            "14/14 [==============================] - 0s 4ms/step - loss: 0.4676 - accuracy: 0.7786 - val_loss: 0.4754 - val_accuracy: 0.7676\n",
            "Epoch 166/200\n",
            "14/14 [==============================] - 0s 5ms/step - loss: 0.4710 - accuracy: 0.7716 - val_loss: 0.4735 - val_accuracy: 0.7730\n",
            "Epoch 167/200\n",
            "14/14 [==============================] - 0s 5ms/step - loss: 0.4696 - accuracy: 0.7716 - val_loss: 0.4895 - val_accuracy: 0.7784\n",
            "Epoch 168/200\n",
            "14/14 [==============================] - 0s 4ms/step - loss: 0.4746 - accuracy: 0.7902 - val_loss: 0.4851 - val_accuracy: 0.7514\n",
            "Epoch 169/200\n",
            "14/14 [==============================] - 0s 4ms/step - loss: 0.4724 - accuracy: 0.7716 - val_loss: 0.4801 - val_accuracy: 0.7838\n",
            "Epoch 170/200\n",
            "14/14 [==============================] - 0s 6ms/step - loss: 0.4639 - accuracy: 0.7925 - val_loss: 0.4816 - val_accuracy: 0.7514\n",
            "Epoch 171/200\n",
            "14/14 [==============================] - 0s 4ms/step - loss: 0.4650 - accuracy: 0.7832 - val_loss: 0.4987 - val_accuracy: 0.7405\n",
            "Epoch 172/200\n",
            "14/14 [==============================] - 0s 5ms/step - loss: 0.4595 - accuracy: 0.7879 - val_loss: 0.4670 - val_accuracy: 0.7784\n",
            "Epoch 173/200\n",
            "14/14 [==============================] - 0s 4ms/step - loss: 0.4582 - accuracy: 0.7855 - val_loss: 0.4760 - val_accuracy: 0.7946\n",
            "Epoch 174/200\n",
            "14/14 [==============================] - 0s 6ms/step - loss: 0.4522 - accuracy: 0.7855 - val_loss: 0.4820 - val_accuracy: 0.7568\n",
            "Epoch 175/200\n",
            "14/14 [==============================] - 0s 4ms/step - loss: 0.4574 - accuracy: 0.7879 - val_loss: 0.4841 - val_accuracy: 0.7784\n",
            "Epoch 176/200\n",
            "14/14 [==============================] - 0s 4ms/step - loss: 0.5034 - accuracy: 0.7692 - val_loss: 0.4658 - val_accuracy: 0.7784\n",
            "Epoch 177/200\n",
            "14/14 [==============================] - 0s 4ms/step - loss: 0.4781 - accuracy: 0.7692 - val_loss: 0.4834 - val_accuracy: 0.7892\n",
            "Epoch 178/200\n",
            "14/14 [==============================] - 0s 4ms/step - loss: 0.4679 - accuracy: 0.7902 - val_loss: 0.4672 - val_accuracy: 0.7622\n",
            "Epoch 179/200\n",
            "14/14 [==============================] - 0s 5ms/step - loss: 0.4636 - accuracy: 0.7879 - val_loss: 0.4872 - val_accuracy: 0.7676\n",
            "Epoch 180/200\n",
            "14/14 [==============================] - 0s 5ms/step - loss: 0.4805 - accuracy: 0.7646 - val_loss: 0.5123 - val_accuracy: 0.7568\n",
            "Epoch 181/200\n",
            "14/14 [==============================] - 0s 6ms/step - loss: 0.4802 - accuracy: 0.7436 - val_loss: 0.5057 - val_accuracy: 0.7514\n",
            "Epoch 182/200\n",
            "14/14 [==============================] - 0s 5ms/step - loss: 0.4618 - accuracy: 0.7809 - val_loss: 0.5197 - val_accuracy: 0.7568\n",
            "Epoch 183/200\n",
            "14/14 [==============================] - 0s 5ms/step - loss: 0.4731 - accuracy: 0.7902 - val_loss: 0.4802 - val_accuracy: 0.7784\n",
            "Epoch 184/200\n",
            "14/14 [==============================] - 0s 4ms/step - loss: 0.4762 - accuracy: 0.7902 - val_loss: 0.4686 - val_accuracy: 0.7622\n",
            "Epoch 185/200\n",
            "14/14 [==============================] - 0s 5ms/step - loss: 0.4637 - accuracy: 0.7762 - val_loss: 0.4689 - val_accuracy: 0.7892\n",
            "Epoch 186/200\n",
            "14/14 [==============================] - 0s 5ms/step - loss: 0.4601 - accuracy: 0.7739 - val_loss: 0.4698 - val_accuracy: 0.7892\n",
            "Epoch 187/200\n",
            "14/14 [==============================] - 0s 5ms/step - loss: 0.4569 - accuracy: 0.7902 - val_loss: 0.4662 - val_accuracy: 0.7838\n",
            "Epoch 188/200\n",
            "14/14 [==============================] - 0s 5ms/step - loss: 0.4545 - accuracy: 0.7879 - val_loss: 0.4861 - val_accuracy: 0.7676\n",
            "Epoch 189/200\n",
            "14/14 [==============================] - 0s 5ms/step - loss: 0.4575 - accuracy: 0.7972 - val_loss: 0.4737 - val_accuracy: 0.7730\n",
            "Epoch 190/200\n",
            "14/14 [==============================] - 0s 4ms/step - loss: 0.4575 - accuracy: 0.7902 - val_loss: 0.4765 - val_accuracy: 0.7730\n",
            "Epoch 191/200\n",
            "14/14 [==============================] - 0s 5ms/step - loss: 0.4566 - accuracy: 0.7995 - val_loss: 0.4701 - val_accuracy: 0.7946\n",
            "Epoch 192/200\n",
            "14/14 [==============================] - 0s 5ms/step - loss: 0.4730 - accuracy: 0.7786 - val_loss: 0.4796 - val_accuracy: 0.7784\n",
            "Epoch 193/200\n",
            "14/14 [==============================] - 0s 5ms/step - loss: 0.4605 - accuracy: 0.7809 - val_loss: 0.5007 - val_accuracy: 0.7568\n",
            "Epoch 194/200\n",
            "14/14 [==============================] - 0s 5ms/step - loss: 0.4849 - accuracy: 0.7786 - val_loss: 0.4993 - val_accuracy: 0.7514\n",
            "Epoch 195/200\n",
            "14/14 [==============================] - 0s 6ms/step - loss: 0.4525 - accuracy: 0.7879 - val_loss: 0.4695 - val_accuracy: 0.8108\n",
            "Epoch 196/200\n",
            "14/14 [==============================] - 0s 5ms/step - loss: 0.4555 - accuracy: 0.7855 - val_loss: 0.5290 - val_accuracy: 0.7514\n",
            "Epoch 197/200\n",
            "14/14 [==============================] - 0s 5ms/step - loss: 0.4974 - accuracy: 0.7483 - val_loss: 0.4728 - val_accuracy: 0.7730\n",
            "Epoch 198/200\n",
            "14/14 [==============================] - 0s 4ms/step - loss: 0.4574 - accuracy: 0.7809 - val_loss: 0.4699 - val_accuracy: 0.7892\n",
            "Epoch 199/200\n",
            "14/14 [==============================] - 0s 4ms/step - loss: 0.4567 - accuracy: 0.7832 - val_loss: 0.4920 - val_accuracy: 0.7892\n",
            "Epoch 200/200\n",
            "14/14 [==============================] - 0s 5ms/step - loss: 0.4644 - accuracy: 0.7786 - val_loss: 0.4740 - val_accuracy: 0.7676\n"
          ]
        }
      ]
    },
    {
      "cell_type": "code",
      "source": [
        "from matplotlib import pyplot\n",
        "\n",
        "# plot learning curves\n",
        "pyplot.title('Learning Curves')\n",
        "pyplot.xlabel('Epoch')\n",
        "pyplot.ylabel('Loss')\n",
        "pyplot.plot(history.history['loss'], label='train')\n",
        "pyplot.plot(history.history['val_loss'], label='val')\n",
        "pyplot.legend()\n",
        "pyplot.show()"
      ],
      "metadata": {
        "id": "vOw87CU-NUaq",
        "outputId": "78607785-cfda-4d4e-99f7-793263de4531",
        "colab": {
          "base_uri": "https://localhost:8080/",
          "height": 295
        }
      },
      "execution_count": null,
      "outputs": [
        {
          "output_type": "display_data",
          "data": {
            "text/plain": [
              "<Figure size 432x288 with 1 Axes>"
            ],
            "image/png": "[encoded data removed]"
          },
          "metadata": {
            "needs_background": "light"
          }
        }
      ]
    }
  ]
}